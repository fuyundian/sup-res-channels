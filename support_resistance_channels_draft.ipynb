{
 "cells": [
  {
   "cell_type": "markdown",
   "id": "corporate-python",
   "metadata": {},
   "source": [
    "## Python porting of Support Resistance Channels TradingView Indicator  \n",
    "by LonesomeTheBlue"
   ]
  },
  {
   "cell_type": "markdown",
   "id": "collective-constitution",
   "metadata": {},
   "source": [
    "<https://www.tradingview.com/script/Ej53t8Wv-Support-Resistance-Channels/>"
   ]
  },
  {
   "cell_type": "markdown",
   "id": "floral-bridge",
   "metadata": {},
   "source": [
    ">Developed by [@edyatl](https://github.com/edyatl) May 2023 <edyatl@yandex.ru>"
   ]
  },
  {
   "cell_type": "code",
   "execution_count": 1,
   "id": "fitting-indonesian",
   "metadata": {},
   "outputs": [
    {
     "data": {
      "application/javascript": [
       "\n",
       "            setTimeout(function() {\n",
       "                var nbb_cell_id = 1;\n",
       "                var nbb_unformatted_code = \"# Load Jupyter extension for auto correction coding style based on Black Lib\\n%load_ext nb_black\";\n",
       "                var nbb_formatted_code = \"# Load Jupyter extension for auto correction coding style based on Black Lib\\n%load_ext nb_black\";\n",
       "                var nbb_cells = Jupyter.notebook.get_cells();\n",
       "                for (var i = 0; i < nbb_cells.length; ++i) {\n",
       "                    if (nbb_cells[i].input_prompt_number == nbb_cell_id) {\n",
       "                        if (nbb_cells[i].get_text() == nbb_unformatted_code) {\n",
       "                             nbb_cells[i].set_text(nbb_formatted_code);\n",
       "                        }\n",
       "                        break;\n",
       "                    }\n",
       "                }\n",
       "            }, 500);\n",
       "            "
      ],
      "text/plain": [
       "<IPython.core.display.Javascript object>"
      ]
     },
     "metadata": {},
     "output_type": "display_data"
    }
   ],
   "source": [
    "# Load Jupyter extension for auto correction coding style based on Black Lib\n",
    "%load_ext nb_black"
   ]
  },
  {
   "cell_type": "markdown",
   "id": "crazy-trade",
   "metadata": {},
   "source": [
    "### Original Indicator code\n",
    "\n",
    "```python\n",
    "// This source code is subject to the terms of the Mozilla Public License 2.0 at https://mozilla.org/MPL/2.0/\n",
    "// © LonesomeTheBlue\n",
    " \n",
    "//@version=4\n",
    "study(\"Support Resistance Channels\", \"SRchannel\", overlay = true, max_bars_back = 501)\n",
    "prd = input(defval = 10, title=\"Pivot Period\", minval = 4, maxval = 30, group = \"Settings 🔨\", tooltip=\"Used while calculating Pivot Points, checks left&right bars\")\n",
    "ppsrc = input(defval = 'High/Low', title=\"Source\", options = ['High/Low', 'Close/Open'], group = \"Settings 🔨\", tooltip=\"Source for Pivot Points\")\n",
    "ChannelW = input(defval = 5, title = \"Maximum Channel Width %\", minval = 1, maxval = 8, group = \"Settings 🔨\", tooltip=\"Calculated using Highest/Lowest levels in 300 bars\")\n",
    "minstrength = input(defval = 1, title = \"Minimum Strength\", minval = 1, group = \"Settings 🔨\", tooltip = \"Channel must contain at least 2 Pivot Points\")\n",
    "maxnumsr = input(defval = 6, title = \"Maximum Number of S/R\", minval = 1, maxval = 10, group = \"Settings 🔨\", tooltip = \"Maximum number of Support/Resistance Channels to Show\") - 1\n",
    "loopback = input(defval = 290, title = \"Loopback Period\", minval = 100, maxval = 400, group = \"Settings 🔨\", tooltip=\"While calculating S/R levels it checks Pivots in Loopback Period\")\n",
    "res_col = input(defval = color.new(color.red, 75), title = \"Resistance Color\", group = \"Colors 🟡🟢🟣\")\n",
    "sup_col = input(defval = color.new(color.lime, 75), title = \"Support Color\", group = \"Colors 🟡🟢🟣\")\n",
    "inch_col = input(defval = color.new(color.gray, 75), title = \"Color When Price in Channel\", group = \"Colors 🟡🟢🟣\")\n",
    "showpp = input(defval = false, title = \"Show Pivot Points\", group = \"Extras ⏶⏷\")\n",
    "showsrbroken = input(defval = false, title = \"Show Broken Support/Resistance\", group = \"Extras ⏶⏷\")\n",
    "showthema1en = input(defval = false, title = \"MA 1\", inline = \"ma1\")\n",
    "showthema1len = input(defval = 50, title = \"\", inline = \"ma1\")\n",
    "showthema1type = input(defval = \"SMA\", title = \"\", options = [\"SMA\", \"EMA\"], inline = \"ma1\")\n",
    "showthema2en = input(defval = false, title = \"MA 2\", inline = \"ma2\")\n",
    "showthema2len = input(defval = 200, title = \"\", inline = \"ma2\")\n",
    "showthema2type = input(defval = \"SMA\", title = \"\", options = [\"SMA\", \"EMA\"], inline = \"ma2\")\n",
    "\n",
    "ma1 = showthema1en ? (showthema1type == \"SMA\" ? sma(close, showthema1len) : ema(close, showthema1len)) : na\n",
    "ma2 = showthema2en ? (showthema2type == \"SMA\" ? sma(close, showthema2len) : ema(close, showthema2len)) : na\n",
    "\n",
    "plot(ma1, color = not na(ma1) ? color.blue : na)\n",
    "plot(ma2, color = not na(ma2) ? color.red : na)\n",
    "\n",
    "// get Pivot High/low\n",
    "float src1 =  ppsrc == 'High/Low' ? high : max(close, open)\n",
    "float src2 =  ppsrc == 'High/Low' ? low: min(close, open)\n",
    "float ph = pivothigh(src1, prd, prd)\n",
    "float pl = pivotlow(src2, prd, prd) \n",
    "\n",
    "// draw Pivot points\n",
    "plotshape(ph and showpp, text = \"H\",  style = shape.labeldown, color = na, textcolor = color.red, location = location.abovebar, offset = -prd)\n",
    "plotshape(pl and showpp, text = \"L\",  style = shape.labelup, color = na, textcolor = color.lime, location = location.belowbar, offset = -prd)\n",
    "\n",
    "//calculate maximum S/R channel width\n",
    "prdhighest =  highest(300)\n",
    "prdlowest = lowest(300)\n",
    "cwidth = (prdhighest - prdlowest) * ChannelW / 100\n",
    "\n",
    "// get/keep Pivot levels\n",
    "var pivotvals= array.new_float(0)\n",
    "var pivotlocs= array.new_float(0)\n",
    "if ph or pl\n",
    "    array.unshift(pivotvals, ph ? ph : pl)\n",
    "    array.unshift(pivotlocs, bar_index)\n",
    "    for x = array.size(pivotvals) - 1 to 0\n",
    "        if bar_index - array.get(pivotlocs, x) > loopback // remove old pivot points\n",
    "            array.pop(pivotvals)\n",
    "            array.pop(pivotlocs)\n",
    "            continue\n",
    "        break\n",
    "\n",
    "//find/create SR channel of a pivot point\n",
    "get_sr_vals(ind)=>\n",
    "    float lo = array.get(pivotvals, ind)\n",
    "    float hi = lo\n",
    "    int numpp = 0\n",
    "    for y = 0 to array.size(pivotvals) - 1\n",
    "        float cpp = array.get(pivotvals, y)\n",
    "        float wdth = cpp <= hi ? hi - cpp : cpp - lo\n",
    "        if wdth <= cwidth // fits the max channel width?\n",
    "            if cpp <= hi\n",
    "                lo := min(lo, cpp)\n",
    "            else\n",
    "                hi := max(hi, cpp)\n",
    "                \n",
    "            numpp := numpp + 20 // each pivot point added as 20\n",
    "    [hi, lo, numpp] \n",
    "\n",
    "// keep old SR channels and calculate/sort new channels if we met new pivot point\n",
    "var suportresistance = array.new_float(20, 0) // min/max levels\n",
    "changeit(x, y)=>\n",
    "    tmp = array.get(suportresistance, y * 2)\n",
    "    array.set(suportresistance, y * 2, array.get(suportresistance, x * 2))\n",
    "    array.set(suportresistance, x * 2, tmp)\n",
    "    tmp := array.get(suportresistance, y * 2 + 1)\n",
    "    array.set(suportresistance, y * 2 + 1, array.get(suportresistance, x * 2 + 1))\n",
    "    array.set(suportresistance, x * 2 + 1, tmp)\n",
    "    \n",
    "if ph or pl\n",
    "    supres = array.new_float(0)  // number of pivot, strength, min/max levels\n",
    "    stren = array.new_float(10, 0)\n",
    "    // get levels and strengs\n",
    "    for x = 0 to array.size(pivotvals) - 1\n",
    "        [hi, lo, strength] = get_sr_vals(x)\n",
    "        array.push(supres, strength)\n",
    "        array.push(supres, hi)\n",
    "        array.push(supres, lo)\n",
    "    \n",
    "    // add each HL to strengh\n",
    "    for x = 0 to array.size(pivotvals) - 1\n",
    "        h = array.get(supres, x * 3 + 1)\n",
    "        l = array.get(supres, x * 3 + 2)\n",
    "        s = 0\n",
    "        for y = 0 to loopback\n",
    "            if (high[y] <= h and high[y] >= l) or\n",
    "               (low[y] <= h and low[y] >= l)\n",
    "                s := s + 1\n",
    "        array.set(supres, x * 3, array.get(supres, x * 3) + s)\n",
    "    \n",
    "    //reset SR levels\n",
    "    array.fill(suportresistance, 0)\n",
    "    // get strongest SRs\n",
    "    src = 0\n",
    "    for x = 0 to array.size(pivotvals) - 1\n",
    "        stv = -1. // value\n",
    "        stl = -1 // location\n",
    "        for y = 0 to array.size(pivotvals) - 1\n",
    "            if array.get(supres, y * 3) > stv and array.get(supres, y * 3) >= minstrength * 20\n",
    "                stv := array.get(supres, y * 3)\n",
    "                stl := y\n",
    "        if stl >= 0\n",
    "            //get sr level\n",
    "            hh = array.get(supres, stl * 3 + 1)\n",
    "            ll = array.get(supres, stl * 3 + 2)\n",
    "            array.set(suportresistance, src * 2, hh)\n",
    "            array.set(suportresistance, src * 2 + 1, ll)\n",
    "            array.set(stren, src, array.get(supres, stl * 3))\n",
    "            \n",
    "            // make included pivot points' strength zero \n",
    "            for y = 0 to array.size(pivotvals) - 1\n",
    "                if (array.get(supres, y * 3 + 1) <= hh and array.get(supres, y * 3 + 1) >= ll) or\n",
    "                   (array.get(supres, y * 3 + 2) <= hh and array.get(supres, y * 3 + 2) >= ll)\n",
    "                    array.set(supres, y * 3, -1)\n",
    "\n",
    "            src += 1\n",
    "            if src >= 10\n",
    "                break\n",
    "    \n",
    "    for x = 0 to 8\n",
    "        for y = x + 1 to 9\n",
    "            if array.get(stren, y) > array.get(stren, x)\n",
    "                tmp = array.get(stren, y) \n",
    "                array.set(stren, y, array.get(stren, x))\n",
    "                changeit(x, y)\n",
    "                \n",
    "    \n",
    "get_level(ind)=>\n",
    "    float ret = na\n",
    "    if ind < array.size(suportresistance)\n",
    "        if array.get(suportresistance, ind) != 0\n",
    "            ret := array.get(suportresistance, ind)\n",
    "    ret\n",
    "    \n",
    "get_color(ind)=>\n",
    "    color ret = na\n",
    "    if ind < array.size(suportresistance)\n",
    "        if array.get(suportresistance, ind) != 0\n",
    "            ret := array.get(suportresistance, ind) > close and array.get(suportresistance, ind + 1) > close ? res_col :\n",
    "                   array.get(suportresistance, ind) < close and array.get(suportresistance, ind + 1) < close ? sup_col :\n",
    "                   inch_col\n",
    "    ret\n",
    "\n",
    "var srchannels = array.new_box(10)\n",
    "for x = 0 to min(9, maxnumsr)\n",
    "    box.delete(array.get(srchannels, x))\n",
    "    srcol = get_color(x * 2)\n",
    "    if not na(srcol)\n",
    "        array.set(srchannels, x, \n",
    "                  box.new(left = bar_index, top = get_level(x * 2), right = bar_index + 1, bottom = get_level(x * 2 + 1), \n",
    "                          border_color = srcol, \n",
    "                          border_width = 1,\n",
    "                          extend = extend.both, \n",
    "                          bgcolor = srcol))\n",
    "\n",
    "resistancebroken = false\n",
    "supportbroken = false\n",
    "\n",
    "// check if it's not in a channel\n",
    "not_in_a_channel = true\n",
    "for x = 0 to min(9, maxnumsr)\n",
    "    if close <= array.get(suportresistance, x * 2) and close >= array.get(suportresistance, x * 2 + 1) \n",
    "        not_in_a_channel := false\n",
    "\n",
    "// if price is not in a channel then check broken ones\n",
    "if not_in_a_channel\n",
    "    for x = 0 to min(9, maxnumsr)\n",
    "        if close[1] <= array.get(suportresistance, x * 2) and close > array.get(suportresistance, x * 2)\n",
    "            resistancebroken := true\n",
    "        if close[1] >= array.get(suportresistance, x * 2 + 1) and close < array.get(suportresistance, x * 2 + 1)\n",
    "            supportbroken := true\n",
    "\n",
    "alertcondition(resistancebroken, title = \"Resistance Broken\", message = \"Resistance Broken\")\n",
    "alertcondition(supportbroken, title = \"Support Broken\", message = \"Support Broken\")\n",
    "plotshape(showsrbroken and resistancebroken, style = shape.triangleup, location = location.belowbar, color = color.new(color.lime, 0), size = size.tiny)\n",
    "plotshape(showsrbroken and supportbroken, style = shape.triangledown, location = location.abovebar, color = color.new(color.red, 0), size = size.tiny)\n",
    "```"
   ]
  },
  {
   "cell_type": "code",
   "execution_count": 2,
   "id": "combined-platform",
   "metadata": {},
   "outputs": [
    {
     "data": {
      "application/javascript": [
       "\n",
       "            setTimeout(function() {\n",
       "                var nbb_cell_id = 2;\n",
       "                var nbb_unformatted_code = \"# Standard imports\\nimport pandas as pd\\nimport numpy as np\\n\\n# import matplotlib.pyplot as plt\\n# import seaborn as sns\\nimport talib as tl\\n\\nimport os\\nfrom os import environ as env\\nfrom dotenv import load_dotenv\\nfrom binance import Client, ThreadedWebsocketManager, ThreadedDepthCacheManager\\n\\n# Nicest style for plots\\n# sns.set(style=\\\"ticks\\\")\";\n",
       "                var nbb_formatted_code = \"# Standard imports\\nimport pandas as pd\\nimport numpy as np\\n\\n# import matplotlib.pyplot as plt\\n# import seaborn as sns\\nimport talib as tl\\n\\nimport os\\nfrom os import environ as env\\nfrom dotenv import load_dotenv\\nfrom binance import Client, ThreadedWebsocketManager, ThreadedDepthCacheManager\\n\\n# Nicest style for plots\\n# sns.set(style=\\\"ticks\\\")\";\n",
       "                var nbb_cells = Jupyter.notebook.get_cells();\n",
       "                for (var i = 0; i < nbb_cells.length; ++i) {\n",
       "                    if (nbb_cells[i].input_prompt_number == nbb_cell_id) {\n",
       "                        if (nbb_cells[i].get_text() == nbb_unformatted_code) {\n",
       "                             nbb_cells[i].set_text(nbb_formatted_code);\n",
       "                        }\n",
       "                        break;\n",
       "                    }\n",
       "                }\n",
       "            }, 500);\n",
       "            "
      ],
      "text/plain": [
       "<IPython.core.display.Javascript object>"
      ]
     },
     "metadata": {},
     "output_type": "display_data"
    }
   ],
   "source": [
    "# Standard imports\n",
    "import pandas as pd\n",
    "import numpy as np\n",
    "\n",
    "# import matplotlib.pyplot as plt\n",
    "# import seaborn as sns\n",
    "import talib as tl\n",
    "\n",
    "import os\n",
    "from os import environ as env\n",
    "from dotenv import load_dotenv\n",
    "from binance import Client, ThreadedWebsocketManager, ThreadedDepthCacheManager\n",
    "\n",
    "# Nicest style for plots\n",
    "# sns.set(style=\"ticks\")"
   ]
  },
  {
   "cell_type": "code",
   "execution_count": 3,
   "id": "affecting-garage",
   "metadata": {},
   "outputs": [
    {
     "data": {
      "application/javascript": [
       "\n",
       "            setTimeout(function() {\n",
       "                var nbb_cell_id = 3;\n",
       "                var nbb_unformatted_code = \"# Install a pip package in the current Jupyter kernel\\n# import sys\\n\\n# !{sys.executable} -m pip install -U python-dotenv\";\n",
       "                var nbb_formatted_code = \"# Install a pip package in the current Jupyter kernel\\n# import sys\\n\\n# !{sys.executable} -m pip install -U python-dotenv\";\n",
       "                var nbb_cells = Jupyter.notebook.get_cells();\n",
       "                for (var i = 0; i < nbb_cells.length; ++i) {\n",
       "                    if (nbb_cells[i].input_prompt_number == nbb_cell_id) {\n",
       "                        if (nbb_cells[i].get_text() == nbb_unformatted_code) {\n",
       "                             nbb_cells[i].set_text(nbb_formatted_code);\n",
       "                        }\n",
       "                        break;\n",
       "                    }\n",
       "                }\n",
       "            }, 500);\n",
       "            "
      ],
      "text/plain": [
       "<IPython.core.display.Javascript object>"
      ]
     },
     "metadata": {},
     "output_type": "display_data"
    }
   ],
   "source": [
    "# Install a pip package in the current Jupyter kernel\n",
    "# import sys\n",
    "\n",
    "# !{sys.executable} -m pip install -U python-dotenv"
   ]
  },
  {
   "cell_type": "code",
   "execution_count": 4,
   "id": "comfortable-courage",
   "metadata": {},
   "outputs": [
    {
     "data": {
      "application/javascript": [
       "\n",
       "            setTimeout(function() {\n",
       "                var nbb_cell_id = 4;\n",
       "                var nbb_unformatted_code = \"project_dotenv = os.path.join(os.path.abspath(\\\"\\\"), \\\".env\\\")\\nif os.path.exists(project_dotenv):\\n    load_dotenv(project_dotenv)\";\n",
       "                var nbb_formatted_code = \"project_dotenv = os.path.join(os.path.abspath(\\\"\\\"), \\\".env\\\")\\nif os.path.exists(project_dotenv):\\n    load_dotenv(project_dotenv)\";\n",
       "                var nbb_cells = Jupyter.notebook.get_cells();\n",
       "                for (var i = 0; i < nbb_cells.length; ++i) {\n",
       "                    if (nbb_cells[i].input_prompt_number == nbb_cell_id) {\n",
       "                        if (nbb_cells[i].get_text() == nbb_unformatted_code) {\n",
       "                             nbb_cells[i].set_text(nbb_formatted_code);\n",
       "                        }\n",
       "                        break;\n",
       "                    }\n",
       "                }\n",
       "            }, 500);\n",
       "            "
      ],
      "text/plain": [
       "<IPython.core.display.Javascript object>"
      ]
     },
     "metadata": {},
     "output_type": "display_data"
    }
   ],
   "source": [
    "project_dotenv = os.path.join(os.path.abspath(\"\"), \".env\")\n",
    "if os.path.exists(project_dotenv):\n",
    "    load_dotenv(project_dotenv)"
   ]
  },
  {
   "cell_type": "code",
   "execution_count": 5,
   "id": "tight-bahamas",
   "metadata": {},
   "outputs": [
    {
     "data": {
      "application/javascript": [
       "\n",
       "            setTimeout(function() {\n",
       "                var nbb_cell_id = 5;\n",
       "                var nbb_unformatted_code = \"api_key, api_secret = env.get(\\\"ENV_API_KEY\\\"), env.get(\\\"ENV_SECRET_KEY\\\")\\nclient = Client(api_key, api_secret)\";\n",
       "                var nbb_formatted_code = \"api_key, api_secret = env.get(\\\"ENV_API_KEY\\\"), env.get(\\\"ENV_SECRET_KEY\\\")\\nclient = Client(api_key, api_secret)\";\n",
       "                var nbb_cells = Jupyter.notebook.get_cells();\n",
       "                for (var i = 0; i < nbb_cells.length; ++i) {\n",
       "                    if (nbb_cells[i].input_prompt_number == nbb_cell_id) {\n",
       "                        if (nbb_cells[i].get_text() == nbb_unformatted_code) {\n",
       "                             nbb_cells[i].set_text(nbb_formatted_code);\n",
       "                        }\n",
       "                        break;\n",
       "                    }\n",
       "                }\n",
       "            }, 500);\n",
       "            "
      ],
      "text/plain": [
       "<IPython.core.display.Javascript object>"
      ]
     },
     "metadata": {},
     "output_type": "display_data"
    }
   ],
   "source": [
    "api_key, api_secret = env.get(\"ENV_API_KEY\"), env.get(\"ENV_SECRET_KEY\")\n",
    "client = Client(api_key, api_secret)"
   ]
  },
  {
   "cell_type": "code",
   "execution_count": 6,
   "id": "professional-adams",
   "metadata": {},
   "outputs": [
    {
     "data": {
      "application/javascript": [
       "\n",
       "            setTimeout(function() {\n",
       "                var nbb_cell_id = 6;\n",
       "                var nbb_unformatted_code = \"klines = client.get_klines(symbol=\\\"ATOMUSDT\\\", interval=Client.KLINE_INTERVAL_15MINUTE)\\n\\nshort_col_names = [\\n    \\\"open_time\\\",\\n    \\\"open\\\",\\n    \\\"high\\\",\\n    \\\"low\\\",\\n    \\\"close\\\",\\n    \\\"volume\\\",\\n    \\\"close_time\\\",\\n    \\\"qav\\\",\\n    \\\"num_trades\\\",\\n    \\\"taker_base_vol\\\",\\n    \\\"taker_quote_vol\\\",\\n    \\\"ignore\\\",\\n]\";\n",
       "                var nbb_formatted_code = \"klines = client.get_klines(symbol=\\\"ATOMUSDT\\\", interval=Client.KLINE_INTERVAL_15MINUTE)\\n\\nshort_col_names = [\\n    \\\"open_time\\\",\\n    \\\"open\\\",\\n    \\\"high\\\",\\n    \\\"low\\\",\\n    \\\"close\\\",\\n    \\\"volume\\\",\\n    \\\"close_time\\\",\\n    \\\"qav\\\",\\n    \\\"num_trades\\\",\\n    \\\"taker_base_vol\\\",\\n    \\\"taker_quote_vol\\\",\\n    \\\"ignore\\\",\\n]\";\n",
       "                var nbb_cells = Jupyter.notebook.get_cells();\n",
       "                for (var i = 0; i < nbb_cells.length; ++i) {\n",
       "                    if (nbb_cells[i].input_prompt_number == nbb_cell_id) {\n",
       "                        if (nbb_cells[i].get_text() == nbb_unformatted_code) {\n",
       "                             nbb_cells[i].set_text(nbb_formatted_code);\n",
       "                        }\n",
       "                        break;\n",
       "                    }\n",
       "                }\n",
       "            }, 500);\n",
       "            "
      ],
      "text/plain": [
       "<IPython.core.display.Javascript object>"
      ]
     },
     "metadata": {},
     "output_type": "display_data"
    }
   ],
   "source": [
    "klines = client.get_klines(symbol=\"ATOMUSDT\", interval=Client.KLINE_INTERVAL_15MINUTE)\n",
    "\n",
    "short_col_names = [\n",
    "    \"open_time\",\n",
    "    \"open\",\n",
    "    \"high\",\n",
    "    \"low\",\n",
    "    \"close\",\n",
    "    \"volume\",\n",
    "    \"close_time\",\n",
    "    \"qav\",\n",
    "    \"num_trades\",\n",
    "    \"taker_base_vol\",\n",
    "    \"taker_quote_vol\",\n",
    "    \"ignore\",\n",
    "]"
   ]
  },
  {
   "cell_type": "code",
   "execution_count": 7,
   "id": "pretty-protein",
   "metadata": {},
   "outputs": [
    {
     "data": {
      "text/html": [
       "<div>\n",
       "<style scoped>\n",
       "    .dataframe tbody tr th:only-of-type {\n",
       "        vertical-align: middle;\n",
       "    }\n",
       "\n",
       "    .dataframe tbody tr th {\n",
       "        vertical-align: top;\n",
       "    }\n",
       "\n",
       "    .dataframe thead th {\n",
       "        text-align: right;\n",
       "    }\n",
       "</style>\n",
       "<table border=\"1\" class=\"dataframe\">\n",
       "  <thead>\n",
       "    <tr style=\"text-align: right;\">\n",
       "      <th></th>\n",
       "      <th>open_time</th>\n",
       "      <th>open</th>\n",
       "      <th>high</th>\n",
       "      <th>low</th>\n",
       "      <th>close</th>\n",
       "      <th>volume</th>\n",
       "      <th>close_time</th>\n",
       "      <th>qav</th>\n",
       "      <th>num_trades</th>\n",
       "      <th>taker_base_vol</th>\n",
       "      <th>taker_quote_vol</th>\n",
       "      <th>ignore</th>\n",
       "    </tr>\n",
       "  </thead>\n",
       "  <tbody>\n",
       "    <tr>\n",
       "      <th>495</th>\n",
       "      <td>2023-05-23 19:45:00</td>\n",
       "      <td>10.49300000</td>\n",
       "      <td>10.49700000</td>\n",
       "      <td>10.48100000</td>\n",
       "      <td>10.48300000</td>\n",
       "      <td>4755.84000000</td>\n",
       "      <td>2023-05-23 19:59:59.999</td>\n",
       "      <td>49896.15671000</td>\n",
       "      <td>165</td>\n",
       "      <td>1559.31000000</td>\n",
       "      <td>16362.08305000</td>\n",
       "      <td>0</td>\n",
       "    </tr>\n",
       "    <tr>\n",
       "      <th>496</th>\n",
       "      <td>2023-05-23 20:00:00</td>\n",
       "      <td>10.48400000</td>\n",
       "      <td>10.49600000</td>\n",
       "      <td>10.47400000</td>\n",
       "      <td>10.48600000</td>\n",
       "      <td>7379.44000000</td>\n",
       "      <td>2023-05-23 20:14:59.999</td>\n",
       "      <td>77363.36672000</td>\n",
       "      <td>211</td>\n",
       "      <td>2627.28000000</td>\n",
       "      <td>27545.04543000</td>\n",
       "      <td>0</td>\n",
       "    </tr>\n",
       "    <tr>\n",
       "      <th>497</th>\n",
       "      <td>2023-05-23 20:15:00</td>\n",
       "      <td>10.48600000</td>\n",
       "      <td>10.49300000</td>\n",
       "      <td>10.48100000</td>\n",
       "      <td>10.49300000</td>\n",
       "      <td>3275.89000000</td>\n",
       "      <td>2023-05-23 20:29:59.999</td>\n",
       "      <td>34353.56444000</td>\n",
       "      <td>171</td>\n",
       "      <td>2386.50000000</td>\n",
       "      <td>25026.74403000</td>\n",
       "      <td>0</td>\n",
       "    </tr>\n",
       "    <tr>\n",
       "      <th>498</th>\n",
       "      <td>2023-05-23 20:30:00</td>\n",
       "      <td>10.49300000</td>\n",
       "      <td>10.50200000</td>\n",
       "      <td>10.49100000</td>\n",
       "      <td>10.50000000</td>\n",
       "      <td>2899.60000000</td>\n",
       "      <td>2023-05-23 20:44:59.999</td>\n",
       "      <td>30434.58858000</td>\n",
       "      <td>153</td>\n",
       "      <td>1567.98000000</td>\n",
       "      <td>16457.52579000</td>\n",
       "      <td>0</td>\n",
       "    </tr>\n",
       "    <tr>\n",
       "      <th>499</th>\n",
       "      <td>2023-05-23 20:45:00</td>\n",
       "      <td>10.50000000</td>\n",
       "      <td>10.51700000</td>\n",
       "      <td>10.49900000</td>\n",
       "      <td>10.50900000</td>\n",
       "      <td>3668.62000000</td>\n",
       "      <td>2023-05-23 20:59:59.999</td>\n",
       "      <td>38561.99885000</td>\n",
       "      <td>157</td>\n",
       "      <td>2454.15000000</td>\n",
       "      <td>25798.19124000</td>\n",
       "      <td>0</td>\n",
       "    </tr>\n",
       "  </tbody>\n",
       "</table>\n",
       "</div>"
      ],
      "text/plain": [
       "              open_time         open         high          low        close  \\\n",
       "495 2023-05-23 19:45:00  10.49300000  10.49700000  10.48100000  10.48300000   \n",
       "496 2023-05-23 20:00:00  10.48400000  10.49600000  10.47400000  10.48600000   \n",
       "497 2023-05-23 20:15:00  10.48600000  10.49300000  10.48100000  10.49300000   \n",
       "498 2023-05-23 20:30:00  10.49300000  10.50200000  10.49100000  10.50000000   \n",
       "499 2023-05-23 20:45:00  10.50000000  10.51700000  10.49900000  10.50900000   \n",
       "\n",
       "            volume              close_time             qav  num_trades  \\\n",
       "495  4755.84000000 2023-05-23 19:59:59.999  49896.15671000         165   \n",
       "496  7379.44000000 2023-05-23 20:14:59.999  77363.36672000         211   \n",
       "497  3275.89000000 2023-05-23 20:29:59.999  34353.56444000         171   \n",
       "498  2899.60000000 2023-05-23 20:44:59.999  30434.58858000         153   \n",
       "499  3668.62000000 2023-05-23 20:59:59.999  38561.99885000         157   \n",
       "\n",
       "    taker_base_vol taker_quote_vol ignore  \n",
       "495  1559.31000000  16362.08305000      0  \n",
       "496  2627.28000000  27545.04543000      0  \n",
       "497  2386.50000000  25026.74403000      0  \n",
       "498  1567.98000000  16457.52579000      0  \n",
       "499  2454.15000000  25798.19124000      0  "
      ]
     },
     "execution_count": 7,
     "metadata": {},
     "output_type": "execute_result"
    },
    {
     "data": {
      "application/javascript": [
       "\n",
       "            setTimeout(function() {\n",
       "                var nbb_cell_id = 7;\n",
       "                var nbb_unformatted_code = \"data = pd.DataFrame(klines, columns=short_col_names)\\ndata[\\\"open_time\\\"] = pd.to_datetime(data[\\\"open_time\\\"], unit=\\\"ms\\\")\\ndata[\\\"close_time\\\"] = pd.to_datetime(data[\\\"close_time\\\"], unit=\\\"ms\\\")\\ndata.tail(5)\";\n",
       "                var nbb_formatted_code = \"data = pd.DataFrame(klines, columns=short_col_names)\\ndata[\\\"open_time\\\"] = pd.to_datetime(data[\\\"open_time\\\"], unit=\\\"ms\\\")\\ndata[\\\"close_time\\\"] = pd.to_datetime(data[\\\"close_time\\\"], unit=\\\"ms\\\")\\ndata.tail(5)\";\n",
       "                var nbb_cells = Jupyter.notebook.get_cells();\n",
       "                for (var i = 0; i < nbb_cells.length; ++i) {\n",
       "                    if (nbb_cells[i].input_prompt_number == nbb_cell_id) {\n",
       "                        if (nbb_cells[i].get_text() == nbb_unformatted_code) {\n",
       "                             nbb_cells[i].set_text(nbb_formatted_code);\n",
       "                        }\n",
       "                        break;\n",
       "                    }\n",
       "                }\n",
       "            }, 500);\n",
       "            "
      ],
      "text/plain": [
       "<IPython.core.display.Javascript object>"
      ]
     },
     "metadata": {},
     "output_type": "display_data"
    }
   ],
   "source": [
    "data = pd.DataFrame(klines, columns=short_col_names)\n",
    "data[\"open_time\"] = pd.to_datetime(data[\"open_time\"], unit=\"ms\")\n",
    "data[\"close_time\"] = pd.to_datetime(data[\"close_time\"], unit=\"ms\")\n",
    "data.tail(5)"
   ]
  },
  {
   "cell_type": "markdown",
   "id": "latest-tract",
   "metadata": {},
   "source": [
    "### Inputs"
   ]
  },
  {
   "cell_type": "code",
   "execution_count": 8,
   "id": "agreed-current",
   "metadata": {},
   "outputs": [
    {
     "data": {
      "application/javascript": [
       "\n",
       "            setTimeout(function() {\n",
       "                var nbb_cell_id = 8;\n",
       "                var nbb_unformatted_code = \"# \\\"Pivot Period\\\", min = 4, max = 30, \\\"Used while calculating Pivot Points, checks left&right bars\\\"\\nprd: int = 10\\n\\n# \\\"Source\\\", ['High/Low', 'Close/Open'], \\\"Source for Pivot Points\\\"\\nppsrc: str = \\\"High/Low\\\"\\n\\n# \\\"Maximum Channel Width %\\\", min = 1, max = 8, \\\"Calculated using Highest/Lowest levels in 300 bars\\\"\\nChannelW: int = 5\\n\\n# \\\"Minimum Strength\\\", minval = 1, \\\"Channel must contain at least 2 Pivot Points\\\"\\nminstrength: int = 1\\n\\n# \\\"Maximum Number of S/R\\\", min = 1, max = 10, \\\"Maximum number of Support/Resistance Channels to Show\\\" - 1\\nmaxnumsr: int = 6 - 1\\n\\n# \\\"Loopback Period\\\", min = 100, max = 400, \\\"While calculating S/R levels it checks Pivots in Loopback Period\\\"\\nloopback: int = 290\\n\\n# res_col = input(defval = color.new(color.red, 75), title = \\\"Resistance Color\\\", group = \\\"Colors \\ud83d\\udfe1\\ud83d\\udfe2\\ud83d\\udfe3\\\")\\n# sup_col = input(defval = color.new(color.lime, 75), title = \\\"Support Color\\\", group = \\\"Colors \\ud83d\\udfe1\\ud83d\\udfe2\\ud83d\\udfe3\\\")\\n# inch_col = input(defval = color.new(color.gray, 75), title = \\\"Color When Price in Channel\\\", group = \\\"Colors \\ud83d\\udfe1\\ud83d\\udfe2\\ud83d\\udfe3\\\")\\n\\nshowpp: bool = False  # \\\"Show Pivot Points\\\"\\nshowsrbroken: bool = False  # \\\"Show Broken Support/Resistance\\\"\\n\\nshowthema1en: bool = True  # \\\"MA 1\\\"\\nshowthema1len: int = 50  # \\\"ma1 length\\\"\\nshowthema1type: str = \\\"SMA\\\"  # [\\\"SMA\\\", \\\"EMA\\\"]\\n\\nshowthema2en: bool = True  # \\\"MA 2\\\"\\nshowthema2len: int = 200  # \\\"ma2 length\\\"\\nshowthema2type: str = \\\"SMA\\\"  # [\\\"SMA\\\", \\\"EMA\\\"]\";\n",
       "                var nbb_formatted_code = \"# \\\"Pivot Period\\\", min = 4, max = 30, \\\"Used while calculating Pivot Points, checks left&right bars\\\"\\nprd: int = 10\\n\\n# \\\"Source\\\", ['High/Low', 'Close/Open'], \\\"Source for Pivot Points\\\"\\nppsrc: str = \\\"High/Low\\\"\\n\\n# \\\"Maximum Channel Width %\\\", min = 1, max = 8, \\\"Calculated using Highest/Lowest levels in 300 bars\\\"\\nChannelW: int = 5\\n\\n# \\\"Minimum Strength\\\", minval = 1, \\\"Channel must contain at least 2 Pivot Points\\\"\\nminstrength: int = 1\\n\\n# \\\"Maximum Number of S/R\\\", min = 1, max = 10, \\\"Maximum number of Support/Resistance Channels to Show\\\" - 1\\nmaxnumsr: int = 6 - 1\\n\\n# \\\"Loopback Period\\\", min = 100, max = 400, \\\"While calculating S/R levels it checks Pivots in Loopback Period\\\"\\nloopback: int = 290\\n\\n# res_col = input(defval = color.new(color.red, 75), title = \\\"Resistance Color\\\", group = \\\"Colors \\ud83d\\udfe1\\ud83d\\udfe2\\ud83d\\udfe3\\\")\\n# sup_col = input(defval = color.new(color.lime, 75), title = \\\"Support Color\\\", group = \\\"Colors \\ud83d\\udfe1\\ud83d\\udfe2\\ud83d\\udfe3\\\")\\n# inch_col = input(defval = color.new(color.gray, 75), title = \\\"Color When Price in Channel\\\", group = \\\"Colors \\ud83d\\udfe1\\ud83d\\udfe2\\ud83d\\udfe3\\\")\\n\\nshowpp: bool = False  # \\\"Show Pivot Points\\\"\\nshowsrbroken: bool = False  # \\\"Show Broken Support/Resistance\\\"\\n\\nshowthema1en: bool = True  # \\\"MA 1\\\"\\nshowthema1len: int = 50  # \\\"ma1 length\\\"\\nshowthema1type: str = \\\"SMA\\\"  # [\\\"SMA\\\", \\\"EMA\\\"]\\n\\nshowthema2en: bool = True  # \\\"MA 2\\\"\\nshowthema2len: int = 200  # \\\"ma2 length\\\"\\nshowthema2type: str = \\\"SMA\\\"  # [\\\"SMA\\\", \\\"EMA\\\"]\";\n",
       "                var nbb_cells = Jupyter.notebook.get_cells();\n",
       "                for (var i = 0; i < nbb_cells.length; ++i) {\n",
       "                    if (nbb_cells[i].input_prompt_number == nbb_cell_id) {\n",
       "                        if (nbb_cells[i].get_text() == nbb_unformatted_code) {\n",
       "                             nbb_cells[i].set_text(nbb_formatted_code);\n",
       "                        }\n",
       "                        break;\n",
       "                    }\n",
       "                }\n",
       "            }, 500);\n",
       "            "
      ],
      "text/plain": [
       "<IPython.core.display.Javascript object>"
      ]
     },
     "metadata": {},
     "output_type": "display_data"
    }
   ],
   "source": [
    "# \"Pivot Period\", min = 4, max = 30, \"Used while calculating Pivot Points, checks left&right bars\"\n",
    "prd: int = 10\n",
    "\n",
    "# \"Source\", ['High/Low', 'Close/Open'], \"Source for Pivot Points\"\n",
    "ppsrc: str = \"High/Low\"\n",
    "\n",
    "# \"Maximum Channel Width %\", min = 1, max = 8, \"Calculated using Highest/Lowest levels in 300 bars\"\n",
    "ChannelW: int = 5\n",
    "\n",
    "# \"Minimum Strength\", minval = 1, \"Channel must contain at least 2 Pivot Points\"\n",
    "minstrength: int = 1\n",
    "\n",
    "# \"Maximum Number of S/R\", min = 1, max = 10, \"Maximum number of Support/Resistance Channels to Show\" - 1\n",
    "maxnumsr: int = 6 - 1\n",
    "\n",
    "# \"Loopback Period\", min = 100, max = 400, \"While calculating S/R levels it checks Pivots in Loopback Period\"\n",
    "loopback: int = 290\n",
    "\n",
    "# res_col = input(defval = color.new(color.red, 75), title = \"Resistance Color\", group = \"Colors 🟡🟢🟣\")\n",
    "# sup_col = input(defval = color.new(color.lime, 75), title = \"Support Color\", group = \"Colors 🟡🟢🟣\")\n",
    "# inch_col = input(defval = color.new(color.gray, 75), title = \"Color When Price in Channel\", group = \"Colors 🟡🟢🟣\")\n",
    "\n",
    "showpp: bool = False  # \"Show Pivot Points\"\n",
    "showsrbroken: bool = False  # \"Show Broken Support/Resistance\"\n",
    "\n",
    "showthema1en: bool = True  # \"MA 1\"\n",
    "showthema1len: int = 50  # \"ma1 length\"\n",
    "showthema1type: str = \"SMA\"  # [\"SMA\", \"EMA\"]\n",
    "\n",
    "showthema2en: bool = True  # \"MA 2\"\n",
    "showthema2len: int = 200  # \"ma2 length\"\n",
    "showthema2type: str = \"SMA\"  # [\"SMA\", \"EMA\"]"
   ]
  },
  {
   "cell_type": "code",
   "execution_count": 9,
   "id": "bright-thinking",
   "metadata": {},
   "outputs": [
    {
     "data": {
      "application/javascript": [
       "\n",
       "            setTimeout(function() {\n",
       "                var nbb_cell_id = 9;\n",
       "                var nbb_unformatted_code = \"close: np.ndarray = data[\\\"close\\\"].to_numpy(dtype=np.double)\\nopen: np.ndarray = data[\\\"open\\\"].to_numpy(dtype=np.double)\\nhigh: np.ndarray = data[\\\"high\\\"].to_numpy(dtype=np.double)\\nlow: np.ndarray = data[\\\"low\\\"].to_numpy(dtype=np.double)\";\n",
       "                var nbb_formatted_code = \"close: np.ndarray = data[\\\"close\\\"].to_numpy(dtype=np.double)\\nopen: np.ndarray = data[\\\"open\\\"].to_numpy(dtype=np.double)\\nhigh: np.ndarray = data[\\\"high\\\"].to_numpy(dtype=np.double)\\nlow: np.ndarray = data[\\\"low\\\"].to_numpy(dtype=np.double)\";\n",
       "                var nbb_cells = Jupyter.notebook.get_cells();\n",
       "                for (var i = 0; i < nbb_cells.length; ++i) {\n",
       "                    if (nbb_cells[i].input_prompt_number == nbb_cell_id) {\n",
       "                        if (nbb_cells[i].get_text() == nbb_unformatted_code) {\n",
       "                             nbb_cells[i].set_text(nbb_formatted_code);\n",
       "                        }\n",
       "                        break;\n",
       "                    }\n",
       "                }\n",
       "            }, 500);\n",
       "            "
      ],
      "text/plain": [
       "<IPython.core.display.Javascript object>"
      ]
     },
     "metadata": {},
     "output_type": "display_data"
    }
   ],
   "source": [
    "close: np.ndarray = data[\"close\"].to_numpy(dtype=np.double)\n",
    "open: np.ndarray = data[\"open\"].to_numpy(dtype=np.double)\n",
    "high: np.ndarray = data[\"high\"].to_numpy(dtype=np.double)\n",
    "low: np.ndarray = data[\"low\"].to_numpy(dtype=np.double)"
   ]
  },
  {
   "cell_type": "code",
   "execution_count": 10,
   "id": "amber-switch",
   "metadata": {},
   "outputs": [
    {
     "data": {
      "application/javascript": [
       "\n",
       "            setTimeout(function() {\n",
       "                var nbb_cell_id = 10;\n",
       "                var nbb_unformatted_code = \"# min/max levels\\nsuportresistance: np.ndarray = np.zeros(20, dtype=np.double)\";\n",
       "                var nbb_formatted_code = \"# min/max levels\\nsuportresistance: np.ndarray = np.zeros(20, dtype=np.double)\";\n",
       "                var nbb_cells = Jupyter.notebook.get_cells();\n",
       "                for (var i = 0; i < nbb_cells.length; ++i) {\n",
       "                    if (nbb_cells[i].input_prompt_number == nbb_cell_id) {\n",
       "                        if (nbb_cells[i].get_text() == nbb_unformatted_code) {\n",
       "                             nbb_cells[i].set_text(nbb_formatted_code);\n",
       "                        }\n",
       "                        break;\n",
       "                    }\n",
       "                }\n",
       "            }, 500);\n",
       "            "
      ],
      "text/plain": [
       "<IPython.core.display.Javascript object>"
      ]
     },
     "metadata": {},
     "output_type": "display_data"
    }
   ],
   "source": [
    "# min/max levels\n",
    "suportresistance: np.ndarray = np.zeros(20, dtype=np.double)"
   ]
  },
  {
   "cell_type": "markdown",
   "id": "solid-exclusion",
   "metadata": {},
   "source": [
    "### Functions"
   ]
  },
  {
   "cell_type": "code",
   "execution_count": 11,
   "id": "systematic-candle",
   "metadata": {},
   "outputs": [
    {
     "data": {
      "application/javascript": [
       "\n",
       "            setTimeout(function() {\n",
       "                var nbb_cell_id = 11;\n",
       "                var nbb_unformatted_code = \"# find/create SR channel of a pivot point\\ndef get_sr_vals(ind: int) -> tuple:\\n    lo: np.double = pivotvals[ind]\\n    hi: np.double = lo\\n    numpp: int = 0\\n\\n    for y in range(len(pivotvals)):\\n        cpp: np.double = pivotvals[y]\\n        wdth: np.double = hi - cpp if cpp <= hi else cpp - lo\\n        if wdth <= cwidth[bar_index]:  # fits the max channel width?\\n            if cpp <= hi:\\n                lo = min(lo, cpp)\\n            else:\\n                hi = max(hi, cpp)\\n            numpp += 20  # each pivot point added as 20\\n    return hi, lo, numpp\";\n",
       "                var nbb_formatted_code = \"# find/create SR channel of a pivot point\\ndef get_sr_vals(ind: int) -> tuple:\\n    lo: np.double = pivotvals[ind]\\n    hi: np.double = lo\\n    numpp: int = 0\\n\\n    for y in range(len(pivotvals)):\\n        cpp: np.double = pivotvals[y]\\n        wdth: np.double = hi - cpp if cpp <= hi else cpp - lo\\n        if wdth <= cwidth[bar_index]:  # fits the max channel width?\\n            if cpp <= hi:\\n                lo = min(lo, cpp)\\n            else:\\n                hi = max(hi, cpp)\\n            numpp += 20  # each pivot point added as 20\\n    return hi, lo, numpp\";\n",
       "                var nbb_cells = Jupyter.notebook.get_cells();\n",
       "                for (var i = 0; i < nbb_cells.length; ++i) {\n",
       "                    if (nbb_cells[i].input_prompt_number == nbb_cell_id) {\n",
       "                        if (nbb_cells[i].get_text() == nbb_unformatted_code) {\n",
       "                             nbb_cells[i].set_text(nbb_formatted_code);\n",
       "                        }\n",
       "                        break;\n",
       "                    }\n",
       "                }\n",
       "            }, 500);\n",
       "            "
      ],
      "text/plain": [
       "<IPython.core.display.Javascript object>"
      ]
     },
     "metadata": {},
     "output_type": "display_data"
    }
   ],
   "source": [
    "# find/create SR channel of a pivot point\n",
    "def get_sr_vals(ind: int) -> tuple:\n",
    "    lo: np.double = pivotvals[ind]\n",
    "    hi: np.double = lo\n",
    "    numpp: int = 0\n",
    "\n",
    "    for y in range(len(pivotvals)):\n",
    "        cpp: np.double = pivotvals[y]\n",
    "        wdth: np.double = hi - cpp if cpp <= hi else cpp - lo\n",
    "        if wdth <= cwidth[bar_index]:  # fits the max channel width?\n",
    "            if cpp <= hi:\n",
    "                lo = min(lo, cpp)\n",
    "            else:\n",
    "                hi = max(hi, cpp)\n",
    "            numpp += 20  # each pivot point added as 20\n",
    "    return hi, lo, numpp"
   ]
  },
  {
   "cell_type": "code",
   "execution_count": 12,
   "id": "instant-courtesy",
   "metadata": {},
   "outputs": [
    {
     "data": {
      "application/javascript": [
       "\n",
       "            setTimeout(function() {\n",
       "                var nbb_cell_id = 12;\n",
       "                var nbb_unformatted_code = \"# for i in range(len(pivotvals)):\\n#     print(i, get_sr_vals(i))\";\n",
       "                var nbb_formatted_code = \"# for i in range(len(pivotvals)):\\n#     print(i, get_sr_vals(i))\";\n",
       "                var nbb_cells = Jupyter.notebook.get_cells();\n",
       "                for (var i = 0; i < nbb_cells.length; ++i) {\n",
       "                    if (nbb_cells[i].input_prompt_number == nbb_cell_id) {\n",
       "                        if (nbb_cells[i].get_text() == nbb_unformatted_code) {\n",
       "                             nbb_cells[i].set_text(nbb_formatted_code);\n",
       "                        }\n",
       "                        break;\n",
       "                    }\n",
       "                }\n",
       "            }, 500);\n",
       "            "
      ],
      "text/plain": [
       "<IPython.core.display.Javascript object>"
      ]
     },
     "metadata": {},
     "output_type": "display_data"
    }
   ],
   "source": [
    "# for i in range(len(pivotvals)):\n",
    "#     print(i, get_sr_vals(i))"
   ]
  },
  {
   "cell_type": "code",
   "execution_count": 13,
   "id": "proud-vegetarian",
   "metadata": {},
   "outputs": [
    {
     "data": {
      "application/javascript": [
       "\n",
       "            setTimeout(function() {\n",
       "                var nbb_cell_id = 13;\n",
       "                var nbb_unformatted_code = \"# keep old SR channels and calculate/sort new channels if we met new pivot point\\ndef changeit(x: int, y: int):\\n    tmp: np.double = suportresistance[y * 2]\\n    suportresistance[y * 2] = suportresistance[x * 2]\\n    suportresistance[x * 2] = tmp\\n    tmp = suportresistance[(y * 2) + 1]\\n    suportresistance[(y * 2) + 1] = suportresistance[(x * 2) + 1]\\n    suportresistance[(x * 2) + 1] = tmp\";\n",
       "                var nbb_formatted_code = \"# keep old SR channels and calculate/sort new channels if we met new pivot point\\ndef changeit(x: int, y: int):\\n    tmp: np.double = suportresistance[y * 2]\\n    suportresistance[y * 2] = suportresistance[x * 2]\\n    suportresistance[x * 2] = tmp\\n    tmp = suportresistance[(y * 2) + 1]\\n    suportresistance[(y * 2) + 1] = suportresistance[(x * 2) + 1]\\n    suportresistance[(x * 2) + 1] = tmp\";\n",
       "                var nbb_cells = Jupyter.notebook.get_cells();\n",
       "                for (var i = 0; i < nbb_cells.length; ++i) {\n",
       "                    if (nbb_cells[i].input_prompt_number == nbb_cell_id) {\n",
       "                        if (nbb_cells[i].get_text() == nbb_unformatted_code) {\n",
       "                             nbb_cells[i].set_text(nbb_formatted_code);\n",
       "                        }\n",
       "                        break;\n",
       "                    }\n",
       "                }\n",
       "            }, 500);\n",
       "            "
      ],
      "text/plain": [
       "<IPython.core.display.Javascript object>"
      ]
     },
     "metadata": {},
     "output_type": "display_data"
    }
   ],
   "source": [
    "# keep old SR channels and calculate/sort new channels if we met new pivot point\n",
    "def changeit(x: int, y: int):\n",
    "    tmp: np.double = suportresistance[y * 2]\n",
    "    suportresistance[y * 2] = suportresistance[x * 2]\n",
    "    suportresistance[x * 2] = tmp\n",
    "    tmp = suportresistance[(y * 2) + 1]\n",
    "    suportresistance[(y * 2) + 1] = suportresistance[(x * 2) + 1]\n",
    "    suportresistance[(x * 2) + 1] = tmp"
   ]
  },
  {
   "cell_type": "code",
   "execution_count": 14,
   "id": "french-beijing",
   "metadata": {},
   "outputs": [
    {
     "data": {
      "application/javascript": [
       "\n",
       "            setTimeout(function() {\n",
       "                var nbb_cell_id = 14;\n",
       "                var nbb_unformatted_code = \"def get_level(ind: int) -> np.double:\\n    ret: np.double = None\\n    if ind < len(suportresistance):\\n        if suportresistance[ind] != 0:\\n            return suportresistance[ind]\\n    return ret\";\n",
       "                var nbb_formatted_code = \"def get_level(ind: int) -> np.double:\\n    ret: np.double = None\\n    if ind < len(suportresistance):\\n        if suportresistance[ind] != 0:\\n            return suportresistance[ind]\\n    return ret\";\n",
       "                var nbb_cells = Jupyter.notebook.get_cells();\n",
       "                for (var i = 0; i < nbb_cells.length; ++i) {\n",
       "                    if (nbb_cells[i].input_prompt_number == nbb_cell_id) {\n",
       "                        if (nbb_cells[i].get_text() == nbb_unformatted_code) {\n",
       "                             nbb_cells[i].set_text(nbb_formatted_code);\n",
       "                        }\n",
       "                        break;\n",
       "                    }\n",
       "                }\n",
       "            }, 500);\n",
       "            "
      ],
      "text/plain": [
       "<IPython.core.display.Javascript object>"
      ]
     },
     "metadata": {},
     "output_type": "display_data"
    }
   ],
   "source": [
    "def get_level(ind: int) -> np.double:\n",
    "    ret: np.double = None\n",
    "    if ind < len(suportresistance):\n",
    "        if suportresistance[ind] != 0:\n",
    "            return suportresistance[ind]\n",
    "    return ret"
   ]
  },
  {
   "cell_type": "code",
   "execution_count": 15,
   "id": "special-france",
   "metadata": {},
   "outputs": [
    {
     "data": {
      "application/javascript": [
       "\n",
       "            setTimeout(function() {\n",
       "                var nbb_cell_id = 15;\n",
       "                var nbb_unformatted_code = \"def get_color(ind: int, _close: np.double) -> str:\\n    ret: str = None\\n    if ind < len(suportresistance):\\n        if suportresistance[ind] != 0:\\n            ret = (\\n                \\\"res_col\\\"\\n                if suportresistance[ind] > _close and suportresistance[ind + 1] > _close\\n                else \\\"sup_col\\\"\\n                if suportresistance[ind] < _close and suportresistance[ind + 1] < _close\\n                else \\\"inch_col\\\"\\n            )\\n    return ret\";\n",
       "                var nbb_formatted_code = \"def get_color(ind: int, _close: np.double) -> str:\\n    ret: str = None\\n    if ind < len(suportresistance):\\n        if suportresistance[ind] != 0:\\n            ret = (\\n                \\\"res_col\\\"\\n                if suportresistance[ind] > _close and suportresistance[ind + 1] > _close\\n                else \\\"sup_col\\\"\\n                if suportresistance[ind] < _close and suportresistance[ind + 1] < _close\\n                else \\\"inch_col\\\"\\n            )\\n    return ret\";\n",
       "                var nbb_cells = Jupyter.notebook.get_cells();\n",
       "                for (var i = 0; i < nbb_cells.length; ++i) {\n",
       "                    if (nbb_cells[i].input_prompt_number == nbb_cell_id) {\n",
       "                        if (nbb_cells[i].get_text() == nbb_unformatted_code) {\n",
       "                             nbb_cells[i].set_text(nbb_formatted_code);\n",
       "                        }\n",
       "                        break;\n",
       "                    }\n",
       "                }\n",
       "            }, 500);\n",
       "            "
      ],
      "text/plain": [
       "<IPython.core.display.Javascript object>"
      ]
     },
     "metadata": {},
     "output_type": "display_data"
    }
   ],
   "source": [
    "def get_color(ind: int, _close: np.double) -> str:\n",
    "    ret: str = None\n",
    "    if ind < len(suportresistance):\n",
    "        if suportresistance[ind] != 0:\n",
    "            ret = (\n",
    "                \"res_col\"\n",
    "                if suportresistance[ind] > _close and suportresistance[ind + 1] > _close\n",
    "                else \"sup_col\"\n",
    "                if suportresistance[ind] < _close and suportresistance[ind + 1] < _close\n",
    "                else \"inch_col\"\n",
    "            )\n",
    "    return ret"
   ]
  },
  {
   "cell_type": "code",
   "execution_count": 16,
   "id": "surprising-assembly",
   "metadata": {},
   "outputs": [
    {
     "data": {
      "application/javascript": [
       "\n",
       "            setTimeout(function() {\n",
       "                var nbb_cell_id = 16;\n",
       "                var nbb_unformatted_code = \"def exclude_repeats(pv: np.ndarray, smpl: np.ndarray, sp: int) -> np.ndarray:\\n    \\\"\\\"\\\"Exclude repeating values\\\"\\\"\\\"\\n    for i in range(sp, len(pv) - sp):\\n        for j in range(sp):\\n            if pv[i] == smpl[i + 1 : i + 1 + sp][j]:\\n                pv[i] = np.NaN\\n            if pv[i] == smpl[i - sp : i][j]:\\n                pv[i] = np.NaN\\n    return pv\";\n",
       "                var nbb_formatted_code = \"def exclude_repeats(pv: np.ndarray, smpl: np.ndarray, sp: int) -> np.ndarray:\\n    \\\"\\\"\\\"Exclude repeating values\\\"\\\"\\\"\\n    for i in range(sp, len(pv) - sp):\\n        for j in range(sp):\\n            if pv[i] == smpl[i + 1 : i + 1 + sp][j]:\\n                pv[i] = np.NaN\\n            if pv[i] == smpl[i - sp : i][j]:\\n                pv[i] = np.NaN\\n    return pv\";\n",
       "                var nbb_cells = Jupyter.notebook.get_cells();\n",
       "                for (var i = 0; i < nbb_cells.length; ++i) {\n",
       "                    if (nbb_cells[i].input_prompt_number == nbb_cell_id) {\n",
       "                        if (nbb_cells[i].get_text() == nbb_unformatted_code) {\n",
       "                             nbb_cells[i].set_text(nbb_formatted_code);\n",
       "                        }\n",
       "                        break;\n",
       "                    }\n",
       "                }\n",
       "            }, 500);\n",
       "            "
      ],
      "text/plain": [
       "<IPython.core.display.Javascript object>"
      ]
     },
     "metadata": {},
     "output_type": "display_data"
    }
   ],
   "source": [
    "def exclude_repeats(pv: np.ndarray, smpl: np.ndarray, sp: int) -> np.ndarray:\n",
    "    \"\"\"Exclude repeating values\"\"\"\n",
    "    for i in range(sp, len(pv) - sp):\n",
    "        for j in range(sp):\n",
    "            if pv[i] == smpl[i + 1 : i + 1 + sp][j]:\n",
    "                pv[i] = np.NaN\n",
    "            if pv[i] == smpl[i - sp : i][j]:\n",
    "                pv[i] = np.NaN\n",
    "    return pv"
   ]
  },
  {
   "cell_type": "code",
   "execution_count": 17,
   "id": "juvenile-medicaid",
   "metadata": {},
   "outputs": [
    {
     "data": {
      "application/javascript": [
       "\n",
       "            setTimeout(function() {\n",
       "                var nbb_cell_id = 17;\n",
       "                var nbb_unformatted_code = \"def pivothigh(high: np.ndarray, left: int, right: int) -> np.ndarray:\\n    pivots = np.roll(tl.MAX(high, left + 1 + right), -right)\\n    pivots[pivots != high] = np.NaN\\n\\n    # Exclude repeating pivot highs\\n    exclude_repeats(pivots, high, right)\\n    return pivots\";\n",
       "                var nbb_formatted_code = \"def pivothigh(high: np.ndarray, left: int, right: int) -> np.ndarray:\\n    pivots = np.roll(tl.MAX(high, left + 1 + right), -right)\\n    pivots[pivots != high] = np.NaN\\n\\n    # Exclude repeating pivot highs\\n    exclude_repeats(pivots, high, right)\\n    return pivots\";\n",
       "                var nbb_cells = Jupyter.notebook.get_cells();\n",
       "                for (var i = 0; i < nbb_cells.length; ++i) {\n",
       "                    if (nbb_cells[i].input_prompt_number == nbb_cell_id) {\n",
       "                        if (nbb_cells[i].get_text() == nbb_unformatted_code) {\n",
       "                             nbb_cells[i].set_text(nbb_formatted_code);\n",
       "                        }\n",
       "                        break;\n",
       "                    }\n",
       "                }\n",
       "            }, 500);\n",
       "            "
      ],
      "text/plain": [
       "<IPython.core.display.Javascript object>"
      ]
     },
     "metadata": {},
     "output_type": "display_data"
    }
   ],
   "source": [
    "def pivothigh(high: np.ndarray, left: int, right: int) -> np.ndarray:\n",
    "    pivots = np.roll(tl.MAX(high, left + 1 + right), -right)\n",
    "    pivots[pivots != high] = np.NaN\n",
    "\n",
    "    # Exclude repeating pivot highs\n",
    "    exclude_repeats(pivots, high, right)\n",
    "    return pivots"
   ]
  },
  {
   "cell_type": "code",
   "execution_count": 18,
   "id": "rubber-scott",
   "metadata": {},
   "outputs": [
    {
     "data": {
      "application/javascript": [
       "\n",
       "            setTimeout(function() {\n",
       "                var nbb_cell_id = 18;\n",
       "                var nbb_unformatted_code = \"def pivotlow(low: np.ndarray, left: int, right: int) -> np.ndarray:\\n    pivots = np.roll(tl.MIN(low, left + 1 + right), -right)\\n    pivots[pivots != low] = np.NaN\\n\\n    # Exclude repeating pivot lows\\n    exclude_repeats(pivots, low, right)\\n    return pivots\";\n",
       "                var nbb_formatted_code = \"def pivotlow(low: np.ndarray, left: int, right: int) -> np.ndarray:\\n    pivots = np.roll(tl.MIN(low, left + 1 + right), -right)\\n    pivots[pivots != low] = np.NaN\\n\\n    # Exclude repeating pivot lows\\n    exclude_repeats(pivots, low, right)\\n    return pivots\";\n",
       "                var nbb_cells = Jupyter.notebook.get_cells();\n",
       "                for (var i = 0; i < nbb_cells.length; ++i) {\n",
       "                    if (nbb_cells[i].input_prompt_number == nbb_cell_id) {\n",
       "                        if (nbb_cells[i].get_text() == nbb_unformatted_code) {\n",
       "                             nbb_cells[i].set_text(nbb_formatted_code);\n",
       "                        }\n",
       "                        break;\n",
       "                    }\n",
       "                }\n",
       "            }, 500);\n",
       "            "
      ],
      "text/plain": [
       "<IPython.core.display.Javascript object>"
      ]
     },
     "metadata": {},
     "output_type": "display_data"
    }
   ],
   "source": [
    "def pivotlow(low: np.ndarray, left: int, right: int) -> np.ndarray:\n",
    "    pivots = np.roll(tl.MIN(low, left + 1 + right), -right)\n",
    "    pivots[pivots != low] = np.NaN\n",
    "\n",
    "    # Exclude repeating pivot lows\n",
    "    exclude_repeats(pivots, low, right)\n",
    "    return pivots"
   ]
  },
  {
   "cell_type": "markdown",
   "id": "northern-location",
   "metadata": {},
   "source": [
    "### Main"
   ]
  },
  {
   "cell_type": "code",
   "execution_count": 19,
   "id": "united-horizontal",
   "metadata": {},
   "outputs": [
    {
     "data": {
      "application/javascript": [
       "\n",
       "            setTimeout(function() {\n",
       "                var nbb_cell_id = 19;\n",
       "                var nbb_unformatted_code = \"ma1 = (\\n    (\\n        tl.SMA(close, showthema1len)\\n        if showthema1type == \\\"SMA\\\"\\n        else tl.EMA(close, showthema1len)\\n    )\\n    if showthema1en\\n    else None\\n)\";\n",
       "                var nbb_formatted_code = \"ma1 = (\\n    (\\n        tl.SMA(close, showthema1len)\\n        if showthema1type == \\\"SMA\\\"\\n        else tl.EMA(close, showthema1len)\\n    )\\n    if showthema1en\\n    else None\\n)\";\n",
       "                var nbb_cells = Jupyter.notebook.get_cells();\n",
       "                for (var i = 0; i < nbb_cells.length; ++i) {\n",
       "                    if (nbb_cells[i].input_prompt_number == nbb_cell_id) {\n",
       "                        if (nbb_cells[i].get_text() == nbb_unformatted_code) {\n",
       "                             nbb_cells[i].set_text(nbb_formatted_code);\n",
       "                        }\n",
       "                        break;\n",
       "                    }\n",
       "                }\n",
       "            }, 500);\n",
       "            "
      ],
      "text/plain": [
       "<IPython.core.display.Javascript object>"
      ]
     },
     "metadata": {},
     "output_type": "display_data"
    }
   ],
   "source": [
    "ma1 = (\n",
    "    (\n",
    "        tl.SMA(close, showthema1len)\n",
    "        if showthema1type == \"SMA\"\n",
    "        else tl.EMA(close, showthema1len)\n",
    "    )\n",
    "    if showthema1en\n",
    "    else None\n",
    ")"
   ]
  },
  {
   "cell_type": "code",
   "execution_count": 20,
   "id": "powered-purchase",
   "metadata": {},
   "outputs": [
    {
     "data": {
      "application/javascript": [
       "\n",
       "            setTimeout(function() {\n",
       "                var nbb_cell_id = 20;\n",
       "                var nbb_unformatted_code = \"ma2 = (\\n    (\\n        tl.SMA(close, showthema2len)\\n        if showthema2type == \\\"SMA\\\"\\n        else tl.EMA(close, showthema2len)\\n    )\\n    if showthema2en\\n    else None\\n)\";\n",
       "                var nbb_formatted_code = \"ma2 = (\\n    (\\n        tl.SMA(close, showthema2len)\\n        if showthema2type == \\\"SMA\\\"\\n        else tl.EMA(close, showthema2len)\\n    )\\n    if showthema2en\\n    else None\\n)\";\n",
       "                var nbb_cells = Jupyter.notebook.get_cells();\n",
       "                for (var i = 0; i < nbb_cells.length; ++i) {\n",
       "                    if (nbb_cells[i].input_prompt_number == nbb_cell_id) {\n",
       "                        if (nbb_cells[i].get_text() == nbb_unformatted_code) {\n",
       "                             nbb_cells[i].set_text(nbb_formatted_code);\n",
       "                        }\n",
       "                        break;\n",
       "                    }\n",
       "                }\n",
       "            }, 500);\n",
       "            "
      ],
      "text/plain": [
       "<IPython.core.display.Javascript object>"
      ]
     },
     "metadata": {},
     "output_type": "display_data"
    }
   ],
   "source": [
    "ma2 = (\n",
    "    (\n",
    "        tl.SMA(close, showthema2len)\n",
    "        if showthema2type == \"SMA\"\n",
    "        else tl.EMA(close, showthema2len)\n",
    "    )\n",
    "    if showthema2en\n",
    "    else None\n",
    ")"
   ]
  },
  {
   "cell_type": "code",
   "execution_count": 21,
   "id": "alternative-moscow",
   "metadata": {},
   "outputs": [
    {
     "data": {
      "application/javascript": [
       "\n",
       "            setTimeout(function() {\n",
       "                var nbb_cell_id = 21;\n",
       "                var nbb_unformatted_code = \"# get Pivot High/low\\nsrc1: np.ndarray = high if ppsrc == \\\"High/Low\\\" else np.maximum(close, open)\\nsrc2: np.ndarray = low if ppsrc == \\\"High/Low\\\" else np.minimum(close, open)\\n\\nph: np.ndarray = pivothigh(src1, prd, prd)\\npl: np.ndarray = pivotlow(src2, prd, prd)\";\n",
       "                var nbb_formatted_code = \"# get Pivot High/low\\nsrc1: np.ndarray = high if ppsrc == \\\"High/Low\\\" else np.maximum(close, open)\\nsrc2: np.ndarray = low if ppsrc == \\\"High/Low\\\" else np.minimum(close, open)\\n\\nph: np.ndarray = pivothigh(src1, prd, prd)\\npl: np.ndarray = pivotlow(src2, prd, prd)\";\n",
       "                var nbb_cells = Jupyter.notebook.get_cells();\n",
       "                for (var i = 0; i < nbb_cells.length; ++i) {\n",
       "                    if (nbb_cells[i].input_prompt_number == nbb_cell_id) {\n",
       "                        if (nbb_cells[i].get_text() == nbb_unformatted_code) {\n",
       "                             nbb_cells[i].set_text(nbb_formatted_code);\n",
       "                        }\n",
       "                        break;\n",
       "                    }\n",
       "                }\n",
       "            }, 500);\n",
       "            "
      ],
      "text/plain": [
       "<IPython.core.display.Javascript object>"
      ]
     },
     "metadata": {},
     "output_type": "display_data"
    }
   ],
   "source": [
    "# get Pivot High/low\n",
    "src1: np.ndarray = high if ppsrc == \"High/Low\" else np.maximum(close, open)\n",
    "src2: np.ndarray = low if ppsrc == \"High/Low\" else np.minimum(close, open)\n",
    "\n",
    "ph: np.ndarray = pivothigh(src1, prd, prd)\n",
    "pl: np.ndarray = pivotlow(src2, prd, prd)"
   ]
  },
  {
   "cell_type": "code",
   "execution_count": 22,
   "id": "reverse-eating",
   "metadata": {},
   "outputs": [
    {
     "data": {
      "application/javascript": [
       "\n",
       "            setTimeout(function() {\n",
       "                var nbb_cell_id = 22;\n",
       "                var nbb_unformatted_code = \"# calculate maximum S/R channel width\\nprdhighest: np.ndarray = tl.MAX(high, 300)\\nprdlowest: np.ndarray = tl.MIN(low, 300)\\ncwidth: np.ndarray = (prdhighest - prdlowest) * ChannelW / 100\";\n",
       "                var nbb_formatted_code = \"# calculate maximum S/R channel width\\nprdhighest: np.ndarray = tl.MAX(high, 300)\\nprdlowest: np.ndarray = tl.MIN(low, 300)\\ncwidth: np.ndarray = (prdhighest - prdlowest) * ChannelW / 100\";\n",
       "                var nbb_cells = Jupyter.notebook.get_cells();\n",
       "                for (var i = 0; i < nbb_cells.length; ++i) {\n",
       "                    if (nbb_cells[i].input_prompt_number == nbb_cell_id) {\n",
       "                        if (nbb_cells[i].get_text() == nbb_unformatted_code) {\n",
       "                             nbb_cells[i].set_text(nbb_formatted_code);\n",
       "                        }\n",
       "                        break;\n",
       "                    }\n",
       "                }\n",
       "            }, 500);\n",
       "            "
      ],
      "text/plain": [
       "<IPython.core.display.Javascript object>"
      ]
     },
     "metadata": {},
     "output_type": "display_data"
    }
   ],
   "source": [
    "# calculate maximum S/R channel width\n",
    "prdhighest: np.ndarray = tl.MAX(high, 300)\n",
    "prdlowest: np.ndarray = tl.MIN(low, 300)\n",
    "cwidth: np.ndarray = (prdhighest - prdlowest) * ChannelW / 100"
   ]
  },
  {
   "cell_type": "code",
   "execution_count": 23,
   "id": "public-mississippi",
   "metadata": {},
   "outputs": [
    {
     "data": {
      "application/javascript": [
       "\n",
       "            setTimeout(function() {\n",
       "                var nbb_cell_id = 23;\n",
       "                var nbb_unformatted_code = \"# get/keep Pivot levels\\npivotvals: np.ndarray = np.zeros(0, dtype=np.double)\\npivotlocs: np.ndarray = np.zeros(0, dtype=np.int)\";\n",
       "                var nbb_formatted_code = \"# get/keep Pivot levels\\npivotvals: np.ndarray = np.zeros(0, dtype=np.double)\\npivotlocs: np.ndarray = np.zeros(0, dtype=np.int)\";\n",
       "                var nbb_cells = Jupyter.notebook.get_cells();\n",
       "                for (var i = 0; i < nbb_cells.length; ++i) {\n",
       "                    if (nbb_cells[i].input_prompt_number == nbb_cell_id) {\n",
       "                        if (nbb_cells[i].get_text() == nbb_unformatted_code) {\n",
       "                             nbb_cells[i].set_text(nbb_formatted_code);\n",
       "                        }\n",
       "                        break;\n",
       "                    }\n",
       "                }\n",
       "            }, 500);\n",
       "            "
      ],
      "text/plain": [
       "<IPython.core.display.Javascript object>"
      ]
     },
     "metadata": {},
     "output_type": "display_data"
    }
   ],
   "source": [
    "# get/keep Pivot levels\n",
    "pivotvals: np.ndarray = np.zeros(0, dtype=np.double)\n",
    "pivotlocs: np.ndarray = np.zeros(0, dtype=np.int)"
   ]
  },
  {
   "cell_type": "code",
   "execution_count": 24,
   "id": "compact-dining",
   "metadata": {},
   "outputs": [
    {
     "data": {
      "application/javascript": [
       "\n",
       "            setTimeout(function() {\n",
       "                var nbb_cell_id = 24;\n",
       "                var nbb_unformatted_code = \"for bar_index, (_ph, _pl, ph_nan, pl_nan) in enumerate(\\n    zip(ph, pl, np.isnan(ph), np.isnan(pl))\\n):\\n    if not ph_nan or not pl_nan:\\n        pivotvals = np.insert(pivotvals, 0, [_ph if not ph_nan else _pl])\\n        pivotlocs = np.insert(pivotlocs, 0, [bar_index])\";\n",
       "                var nbb_formatted_code = \"for bar_index, (_ph, _pl, ph_nan, pl_nan) in enumerate(\\n    zip(ph, pl, np.isnan(ph), np.isnan(pl))\\n):\\n    if not ph_nan or not pl_nan:\\n        pivotvals = np.insert(pivotvals, 0, [_ph if not ph_nan else _pl])\\n        pivotlocs = np.insert(pivotlocs, 0, [bar_index])\";\n",
       "                var nbb_cells = Jupyter.notebook.get_cells();\n",
       "                for (var i = 0; i < nbb_cells.length; ++i) {\n",
       "                    if (nbb_cells[i].input_prompt_number == nbb_cell_id) {\n",
       "                        if (nbb_cells[i].get_text() == nbb_unformatted_code) {\n",
       "                             nbb_cells[i].set_text(nbb_formatted_code);\n",
       "                        }\n",
       "                        break;\n",
       "                    }\n",
       "                }\n",
       "            }, 500);\n",
       "            "
      ],
      "text/plain": [
       "<IPython.core.display.Javascript object>"
      ]
     },
     "metadata": {},
     "output_type": "display_data"
    }
   ],
   "source": [
    "for bar_index, (_ph, _pl, ph_nan, pl_nan) in enumerate(\n",
    "    zip(ph, pl, np.isnan(ph), np.isnan(pl))\n",
    "):\n",
    "    if not ph_nan or not pl_nan:\n",
    "        pivotvals = np.insert(pivotvals, 0, [_ph if not ph_nan else _pl])\n",
    "        pivotlocs = np.insert(pivotlocs, 0, [bar_index])"
   ]
  },
  {
   "cell_type": "code",
   "execution_count": 25,
   "id": "meaningful-nebraska",
   "metadata": {},
   "outputs": [
    {
     "data": {
      "application/javascript": [
       "\n",
       "            setTimeout(function() {\n",
       "                var nbb_cell_id = 25;\n",
       "                var nbb_unformatted_code = \"# for bar_index in reversed(range(len(high))):\\nfor x in reversed(range(len(pivotvals))):\\n    bar_index = len(high) - 1\\n    # remove old pivot points\\n    if bar_index - pivotlocs[x] > loopback:\\n        pivotvals = np.delete(pivotvals, x, 0)\\n        pivotlocs = np.delete(pivotlocs, x, 0)\";\n",
       "                var nbb_formatted_code = \"# for bar_index in reversed(range(len(high))):\\nfor x in reversed(range(len(pivotvals))):\\n    bar_index = len(high) - 1\\n    # remove old pivot points\\n    if bar_index - pivotlocs[x] > loopback:\\n        pivotvals = np.delete(pivotvals, x, 0)\\n        pivotlocs = np.delete(pivotlocs, x, 0)\";\n",
       "                var nbb_cells = Jupyter.notebook.get_cells();\n",
       "                for (var i = 0; i < nbb_cells.length; ++i) {\n",
       "                    if (nbb_cells[i].input_prompt_number == nbb_cell_id) {\n",
       "                        if (nbb_cells[i].get_text() == nbb_unformatted_code) {\n",
       "                             nbb_cells[i].set_text(nbb_formatted_code);\n",
       "                        }\n",
       "                        break;\n",
       "                    }\n",
       "                }\n",
       "            }, 500);\n",
       "            "
      ],
      "text/plain": [
       "<IPython.core.display.Javascript object>"
      ]
     },
     "metadata": {},
     "output_type": "display_data"
    }
   ],
   "source": [
    "# for bar_index in reversed(range(len(high))):\n",
    "for x in reversed(range(len(pivotvals))):\n",
    "    bar_index = len(high) - 1\n",
    "    # remove old pivot points\n",
    "    if bar_index - pivotlocs[x] > loopback:\n",
    "        pivotvals = np.delete(pivotvals, x, 0)\n",
    "        pivotlocs = np.delete(pivotlocs, x, 0)"
   ]
  },
  {
   "cell_type": "code",
   "execution_count": 26,
   "id": "serious-lawyer",
   "metadata": {},
   "outputs": [
    {
     "data": {
      "application/javascript": [
       "\n",
       "            setTimeout(function() {\n",
       "                var nbb_cell_id = 26;\n",
       "                var nbb_unformatted_code = \"for bar_index, (_ph, _pl, ph_nan, pl_nan) in enumerate(\\n    zip(ph, pl, np.isnan(ph), np.isnan(pl))\\n):\\n    if not ph_nan or not pl_nan:\\n        # number of pivot, strength, min/max levels\\n        supres: np.ndarray = np.zeros(0, dtype=np.double)\\n        stren: np.ndarray = np.zeros(10, dtype=np.double)\\n\\n        # get levels and strengs\\n        for x1 in range(len(pivotvals)):\\n            hi, lo, strength = get_sr_vals(x1)\\n            supres = np.append(supres, strength)\\n            supres = np.append(supres, hi)\\n            supres = np.append(supres, lo)\\n\\n        # add each HL to strengh\\n        for x2 in range(len(pivotvals)):\\n            h: np.double = supres[x2 * 3 + 1]\\n            l: np.double = supres[x2 * 3 + 2]\\n            s: int = 0\\n\\n            for y2 in range(loopback + 1):\\n                # TODO: rewrite for each HL after adding for loop\\n                if len(high[:bar_index]) - 1 < y2:\\n                    continue\\n                if (\\n                    high[:bar_index][-y2 - 1] <= h and high[:bar_index][-y2 - 1] >= l\\n                ) or (low[:bar_index][-y2 - 1] <= h and low[:bar_index][-y2 - 1] >= l):\\n                    s += 1\\n            supres[x2 * 3] = supres[x2 * 3] + s\\n\\n        # reset SR levels\\n        suportresistance.fill(0)\\n\\n        # get strongest SRs\\n        src: int = 0\\n        for x3 in range(len(pivotvals)):\\n            stv: np.double = -1.0  # value\\n            stl: int = -1  # location\\n            for y3 in range(len(pivotvals)):\\n                if supres[y3 * 3] > stv and supres[y3 * 3] >= minstrength * 20:\\n                    stv = supres[y3 * 3]\\n                    stl = y3\\n            if stl >= 0:\\n                # get sr level\\n                hh = supres[stl * 3 + 1]\\n                ll = supres[stl * 3 + 2]\\n                suportresistance[src * 2] = hh\\n                suportresistance[src * 2 + 1] = ll\\n                stren[src] = supres[stl * 3]\\n\\n                # make included pivot points' strength zero\\n                for y32 in range(len(pivotvals)):\\n                    if (supres[y32 * 3 + 1] <= hh and supres[y32 * 3 + 1] >= ll) or (\\n                        supres[y32 * 3 + 2] <= hh and supres[y32 * 3 + 2] >= ll\\n                    ):\\n                        supres[y32 * 3] = -1\\n\\n                src += 1\\n                if src >= 10:\\n                    break\\n\\n        for x4 in range(9):\\n            for y4 in range(x4 + 1, 10):\\n                if stren[y4] > stren[x4]:\\n                    tmp = stren[y4]\\n                    stren[y4] = stren[x4]\\n                    changeit(x4, y4)\";\n",
       "                var nbb_formatted_code = \"for bar_index, (_ph, _pl, ph_nan, pl_nan) in enumerate(\\n    zip(ph, pl, np.isnan(ph), np.isnan(pl))\\n):\\n    if not ph_nan or not pl_nan:\\n        # number of pivot, strength, min/max levels\\n        supres: np.ndarray = np.zeros(0, dtype=np.double)\\n        stren: np.ndarray = np.zeros(10, dtype=np.double)\\n\\n        # get levels and strengs\\n        for x1 in range(len(pivotvals)):\\n            hi, lo, strength = get_sr_vals(x1)\\n            supres = np.append(supres, strength)\\n            supres = np.append(supres, hi)\\n            supres = np.append(supres, lo)\\n\\n        # add each HL to strengh\\n        for x2 in range(len(pivotvals)):\\n            h: np.double = supres[x2 * 3 + 1]\\n            l: np.double = supres[x2 * 3 + 2]\\n            s: int = 0\\n\\n            for y2 in range(loopback + 1):\\n                # TODO: rewrite for each HL after adding for loop\\n                if len(high[:bar_index]) - 1 < y2:\\n                    continue\\n                if (\\n                    high[:bar_index][-y2 - 1] <= h and high[:bar_index][-y2 - 1] >= l\\n                ) or (low[:bar_index][-y2 - 1] <= h and low[:bar_index][-y2 - 1] >= l):\\n                    s += 1\\n            supres[x2 * 3] = supres[x2 * 3] + s\\n\\n        # reset SR levels\\n        suportresistance.fill(0)\\n\\n        # get strongest SRs\\n        src: int = 0\\n        for x3 in range(len(pivotvals)):\\n            stv: np.double = -1.0  # value\\n            stl: int = -1  # location\\n            for y3 in range(len(pivotvals)):\\n                if supres[y3 * 3] > stv and supres[y3 * 3] >= minstrength * 20:\\n                    stv = supres[y3 * 3]\\n                    stl = y3\\n            if stl >= 0:\\n                # get sr level\\n                hh = supres[stl * 3 + 1]\\n                ll = supres[stl * 3 + 2]\\n                suportresistance[src * 2] = hh\\n                suportresistance[src * 2 + 1] = ll\\n                stren[src] = supres[stl * 3]\\n\\n                # make included pivot points' strength zero\\n                for y32 in range(len(pivotvals)):\\n                    if (supres[y32 * 3 + 1] <= hh and supres[y32 * 3 + 1] >= ll) or (\\n                        supres[y32 * 3 + 2] <= hh and supres[y32 * 3 + 2] >= ll\\n                    ):\\n                        supres[y32 * 3] = -1\\n\\n                src += 1\\n                if src >= 10:\\n                    break\\n\\n        for x4 in range(9):\\n            for y4 in range(x4 + 1, 10):\\n                if stren[y4] > stren[x4]:\\n                    tmp = stren[y4]\\n                    stren[y4] = stren[x4]\\n                    changeit(x4, y4)\";\n",
       "                var nbb_cells = Jupyter.notebook.get_cells();\n",
       "                for (var i = 0; i < nbb_cells.length; ++i) {\n",
       "                    if (nbb_cells[i].input_prompt_number == nbb_cell_id) {\n",
       "                        if (nbb_cells[i].get_text() == nbb_unformatted_code) {\n",
       "                             nbb_cells[i].set_text(nbb_formatted_code);\n",
       "                        }\n",
       "                        break;\n",
       "                    }\n",
       "                }\n",
       "            }, 500);\n",
       "            "
      ],
      "text/plain": [
       "<IPython.core.display.Javascript object>"
      ]
     },
     "metadata": {},
     "output_type": "display_data"
    }
   ],
   "source": [
    "for bar_index, (_ph, _pl, ph_nan, pl_nan) in enumerate(\n",
    "    zip(ph, pl, np.isnan(ph), np.isnan(pl))\n",
    "):\n",
    "    if not ph_nan or not pl_nan:\n",
    "        # number of pivot, strength, min/max levels\n",
    "        supres: np.ndarray = np.zeros(0, dtype=np.double)\n",
    "        stren: np.ndarray = np.zeros(10, dtype=np.double)\n",
    "\n",
    "        # get levels and strengs\n",
    "        for x1 in range(len(pivotvals)):\n",
    "            hi, lo, strength = get_sr_vals(x1)\n",
    "            supres = np.append(supres, strength)\n",
    "            supres = np.append(supres, hi)\n",
    "            supres = np.append(supres, lo)\n",
    "\n",
    "        # add each HL to strengh\n",
    "        for x2 in range(len(pivotvals)):\n",
    "            h: np.double = supres[x2 * 3 + 1]\n",
    "            l: np.double = supres[x2 * 3 + 2]\n",
    "            s: int = 0\n",
    "\n",
    "            for y2 in range(loopback + 1):\n",
    "                # TODO: rewrite for each HL after adding for loop\n",
    "                if len(high[:bar_index]) - 1 < y2:\n",
    "                    continue\n",
    "                if (\n",
    "                    high[:bar_index][-y2 - 1] <= h and high[:bar_index][-y2 - 1] >= l\n",
    "                ) or (low[:bar_index][-y2 - 1] <= h and low[:bar_index][-y2 - 1] >= l):\n",
    "                    s += 1\n",
    "            supres[x2 * 3] = supres[x2 * 3] + s\n",
    "\n",
    "        # reset SR levels\n",
    "        suportresistance.fill(0)\n",
    "\n",
    "        # get strongest SRs\n",
    "        src: int = 0\n",
    "        for x3 in range(len(pivotvals)):\n",
    "            stv: np.double = -1.0  # value\n",
    "            stl: int = -1  # location\n",
    "            for y3 in range(len(pivotvals)):\n",
    "                if supres[y3 * 3] > stv and supres[y3 * 3] >= minstrength * 20:\n",
    "                    stv = supres[y3 * 3]\n",
    "                    stl = y3\n",
    "            if stl >= 0:\n",
    "                # get sr level\n",
    "                hh = supres[stl * 3 + 1]\n",
    "                ll = supres[stl * 3 + 2]\n",
    "                suportresistance[src * 2] = hh\n",
    "                suportresistance[src * 2 + 1] = ll\n",
    "                stren[src] = supres[stl * 3]\n",
    "\n",
    "                # make included pivot points' strength zero\n",
    "                for y32 in range(len(pivotvals)):\n",
    "                    if (supres[y32 * 3 + 1] <= hh and supres[y32 * 3 + 1] >= ll) or (\n",
    "                        supres[y32 * 3 + 2] <= hh and supres[y32 * 3 + 2] >= ll\n",
    "                    ):\n",
    "                        supres[y32 * 3] = -1\n",
    "\n",
    "                src += 1\n",
    "                if src >= 10:\n",
    "                    break\n",
    "\n",
    "        for x4 in range(9):\n",
    "            for y4 in range(x4 + 1, 10):\n",
    "                if stren[y4] > stren[x4]:\n",
    "                    tmp = stren[y4]\n",
    "                    stren[y4] = stren[x4]\n",
    "                    changeit(x4, y4)"
   ]
  },
  {
   "cell_type": "code",
   "execution_count": 27,
   "id": "strategic-stability",
   "metadata": {},
   "outputs": [
    {
     "data": {
      "text/plain": [
       "array([10.571, 10.54 , 10.45 , 10.623, 10.445, 10.526, 10.44 , 10.584,\n",
       "       10.461, 10.325, 10.505, 10.403, 10.41 , 10.558, 10.429, 10.576,\n",
       "       10.536, 10.619, 10.558, 10.546])"
      ]
     },
     "execution_count": 27,
     "metadata": {},
     "output_type": "execute_result"
    },
    {
     "data": {
      "application/javascript": [
       "\n",
       "            setTimeout(function() {\n",
       "                var nbb_cell_id = 27;\n",
       "                var nbb_unformatted_code = \"pivotvals\";\n",
       "                var nbb_formatted_code = \"pivotvals\";\n",
       "                var nbb_cells = Jupyter.notebook.get_cells();\n",
       "                for (var i = 0; i < nbb_cells.length; ++i) {\n",
       "                    if (nbb_cells[i].input_prompt_number == nbb_cell_id) {\n",
       "                        if (nbb_cells[i].get_text() == nbb_unformatted_code) {\n",
       "                             nbb_cells[i].set_text(nbb_formatted_code);\n",
       "                        }\n",
       "                        break;\n",
       "                    }\n",
       "                }\n",
       "            }, 500);\n",
       "            "
      ],
      "text/plain": [
       "<IPython.core.display.Javascript object>"
      ]
     },
     "metadata": {},
     "output_type": "display_data"
    }
   ],
   "source": [
    "pivotvals"
   ]
  },
  {
   "cell_type": "code",
   "execution_count": 28,
   "id": "hearing-jacket",
   "metadata": {},
   "outputs": [
    {
     "name": "stdout",
     "output_type": "stream",
     "text": [
      "10.571\n",
      "10.54\n",
      "10.45\n",
      "10.41\n",
      "10.623\n"
     ]
    },
    {
     "data": {
      "text/plain": [
       "array([106., 102.,  78.,  50.,  44.,  23.,  21.,   0.,   0.,   0.])"
      ]
     },
     "execution_count": 28,
     "metadata": {},
     "output_type": "execute_result"
    },
    {
     "data": {
      "application/javascript": [
       "\n",
       "            setTimeout(function() {\n",
       "                var nbb_cell_id = 28;\n",
       "                var nbb_unformatted_code = \"for x in range(5):\\n    print(get_level(x * 2))\\nstren\";\n",
       "                var nbb_formatted_code = \"for x in range(5):\\n    print(get_level(x * 2))\\nstren\";\n",
       "                var nbb_cells = Jupyter.notebook.get_cells();\n",
       "                for (var i = 0; i < nbb_cells.length; ++i) {\n",
       "                    if (nbb_cells[i].input_prompt_number == nbb_cell_id) {\n",
       "                        if (nbb_cells[i].get_text() == nbb_unformatted_code) {\n",
       "                             nbb_cells[i].set_text(nbb_formatted_code);\n",
       "                        }\n",
       "                        break;\n",
       "                    }\n",
       "                }\n",
       "            }, 500);\n",
       "            "
      ],
      "text/plain": [
       "<IPython.core.display.Javascript object>"
      ]
     },
     "metadata": {},
     "output_type": "display_data"
    }
   ],
   "source": [
    "for x in range(5):\n",
    "    print(get_level(x * 2))\n",
    "stren"
   ]
  },
  {
   "cell_type": "code",
   "execution_count": 29,
   "id": "fuzzy-edgar",
   "metadata": {},
   "outputs": [
    {
     "data": {
      "application/javascript": [
       "\n",
       "            setTimeout(function() {\n",
       "                var nbb_cell_id = 29;\n",
       "                var nbb_unformatted_code = \"top_level: np.ndarray = np.zeros(10, dtype=np.double)\\nbot_level: np.ndarray = np.zeros(10, dtype=np.double)\\n\\nfor bar_index, _close in enumerate(close):\\n    for x in range(min(10, (maxnumsr + 1))):\\n        top_level[x] = np.nan\\n        bot_level[x] = np.nan\\n\\n        srcol = get_color(x * 2, _close)\\n        if srcol:\\n            top_level[x] = get_level(x * 2)\\n            bot_level[x] = get_level(x * 2 + 1)\\n\\ntop_level = np.where(top_level != 0, top_level, np.nan)\\nbot_level = np.where(bot_level != 0, bot_level, np.nan)\";\n",
       "                var nbb_formatted_code = \"top_level: np.ndarray = np.zeros(10, dtype=np.double)\\nbot_level: np.ndarray = np.zeros(10, dtype=np.double)\\n\\nfor bar_index, _close in enumerate(close):\\n    for x in range(min(10, (maxnumsr + 1))):\\n        top_level[x] = np.nan\\n        bot_level[x] = np.nan\\n\\n        srcol = get_color(x * 2, _close)\\n        if srcol:\\n            top_level[x] = get_level(x * 2)\\n            bot_level[x] = get_level(x * 2 + 1)\\n\\ntop_level = np.where(top_level != 0, top_level, np.nan)\\nbot_level = np.where(bot_level != 0, bot_level, np.nan)\";\n",
       "                var nbb_cells = Jupyter.notebook.get_cells();\n",
       "                for (var i = 0; i < nbb_cells.length; ++i) {\n",
       "                    if (nbb_cells[i].input_prompt_number == nbb_cell_id) {\n",
       "                        if (nbb_cells[i].get_text() == nbb_unformatted_code) {\n",
       "                             nbb_cells[i].set_text(nbb_formatted_code);\n",
       "                        }\n",
       "                        break;\n",
       "                    }\n",
       "                }\n",
       "            }, 500);\n",
       "            "
      ],
      "text/plain": [
       "<IPython.core.display.Javascript object>"
      ]
     },
     "metadata": {},
     "output_type": "display_data"
    }
   ],
   "source": [
    "top_level: np.ndarray = np.zeros(10, dtype=np.double)\n",
    "bot_level: np.ndarray = np.zeros(10, dtype=np.double)\n",
    "\n",
    "for bar_index, _close in enumerate(close):\n",
    "    for x in range(min(10, (maxnumsr + 1))):\n",
    "        top_level[x] = np.nan\n",
    "        bot_level[x] = np.nan\n",
    "\n",
    "        srcol = get_color(x * 2, _close)\n",
    "        if srcol:\n",
    "            top_level[x] = get_level(x * 2)\n",
    "            bot_level[x] = get_level(x * 2 + 1)\n",
    "\n",
    "top_level = np.where(top_level != 0, top_level, np.nan)\n",
    "bot_level = np.where(bot_level != 0, bot_level, np.nan)"
   ]
  },
  {
   "cell_type": "code",
   "execution_count": 30,
   "id": "adapted-graham",
   "metadata": {},
   "outputs": [
    {
     "data": {
      "text/plain": [
       "array([10.571, 10.54 , 10.45 , 10.41 , 10.623, 10.505,    nan,    nan,\n",
       "          nan,    nan])"
      ]
     },
     "execution_count": 30,
     "metadata": {},
     "output_type": "execute_result"
    },
    {
     "data": {
      "application/javascript": [
       "\n",
       "            setTimeout(function() {\n",
       "                var nbb_cell_id = 30;\n",
       "                var nbb_unformatted_code = \"top_level\";\n",
       "                var nbb_formatted_code = \"top_level\";\n",
       "                var nbb_cells = Jupyter.notebook.get_cells();\n",
       "                for (var i = 0; i < nbb_cells.length; ++i) {\n",
       "                    if (nbb_cells[i].input_prompt_number == nbb_cell_id) {\n",
       "                        if (nbb_cells[i].get_text() == nbb_unformatted_code) {\n",
       "                             nbb_cells[i].set_text(nbb_formatted_code);\n",
       "                        }\n",
       "                        break;\n",
       "                    }\n",
       "                }\n",
       "            }, 500);\n",
       "            "
      ],
      "text/plain": [
       "<IPython.core.display.Javascript object>"
      ]
     },
     "metadata": {},
     "output_type": "display_data"
    }
   ],
   "source": [
    "top_level"
   ]
  },
  {
   "cell_type": "code",
   "execution_count": 31,
   "id": "prerequisite-bumper",
   "metadata": {},
   "outputs": [
    {
     "data": {
      "text/plain": [
       "array([10.558, 10.526, 10.44 , 10.403, 10.619, 10.505,    nan,    nan,\n",
       "          nan,    nan])"
      ]
     },
     "execution_count": 31,
     "metadata": {},
     "output_type": "execute_result"
    },
    {
     "data": {
      "application/javascript": [
       "\n",
       "            setTimeout(function() {\n",
       "                var nbb_cell_id = 31;\n",
       "                var nbb_unformatted_code = \"bot_level\";\n",
       "                var nbb_formatted_code = \"bot_level\";\n",
       "                var nbb_cells = Jupyter.notebook.get_cells();\n",
       "                for (var i = 0; i < nbb_cells.length; ++i) {\n",
       "                    if (nbb_cells[i].input_prompt_number == nbb_cell_id) {\n",
       "                        if (nbb_cells[i].get_text() == nbb_unformatted_code) {\n",
       "                             nbb_cells[i].set_text(nbb_formatted_code);\n",
       "                        }\n",
       "                        break;\n",
       "                    }\n",
       "                }\n",
       "            }, 500);\n",
       "            "
      ],
      "text/plain": [
       "<IPython.core.display.Javascript object>"
      ]
     },
     "metadata": {},
     "output_type": "display_data"
    }
   ],
   "source": [
    "bot_level"
   ]
  },
  {
   "cell_type": "code",
   "execution_count": 32,
   "id": "micro-sailing",
   "metadata": {},
   "outputs": [
    {
     "data": {
      "text/html": [
       "<div>\n",
       "<style scoped>\n",
       "    .dataframe tbody tr th:only-of-type {\n",
       "        vertical-align: middle;\n",
       "    }\n",
       "\n",
       "    .dataframe tbody tr th {\n",
       "        vertical-align: top;\n",
       "    }\n",
       "\n",
       "    .dataframe thead th {\n",
       "        text-align: right;\n",
       "    }\n",
       "</style>\n",
       "<table border=\"1\" class=\"dataframe\">\n",
       "  <thead>\n",
       "    <tr style=\"text-align: right;\">\n",
       "      <th></th>\n",
       "      <th>top_level</th>\n",
       "      <th>bot_level</th>\n",
       "    </tr>\n",
       "  </thead>\n",
       "  <tbody>\n",
       "    <tr>\n",
       "      <th>0</th>\n",
       "      <td>10.571</td>\n",
       "      <td>10.558</td>\n",
       "    </tr>\n",
       "    <tr>\n",
       "      <th>1</th>\n",
       "      <td>10.540</td>\n",
       "      <td>10.526</td>\n",
       "    </tr>\n",
       "    <tr>\n",
       "      <th>2</th>\n",
       "      <td>10.450</td>\n",
       "      <td>10.440</td>\n",
       "    </tr>\n",
       "    <tr>\n",
       "      <th>3</th>\n",
       "      <td>10.410</td>\n",
       "      <td>10.403</td>\n",
       "    </tr>\n",
       "    <tr>\n",
       "      <th>4</th>\n",
       "      <td>10.623</td>\n",
       "      <td>10.619</td>\n",
       "    </tr>\n",
       "    <tr>\n",
       "      <th>5</th>\n",
       "      <td>10.505</td>\n",
       "      <td>10.505</td>\n",
       "    </tr>\n",
       "  </tbody>\n",
       "</table>\n",
       "</div>"
      ],
      "text/plain": [
       "   top_level  bot_level\n",
       "0     10.571     10.558\n",
       "1     10.540     10.526\n",
       "2     10.450     10.440\n",
       "3     10.410     10.403\n",
       "4     10.623     10.619\n",
       "5     10.505     10.505"
      ]
     },
     "execution_count": 32,
     "metadata": {},
     "output_type": "execute_result"
    },
    {
     "data": {
      "application/javascript": [
       "\n",
       "            setTimeout(function() {\n",
       "                var nbb_cell_id = 32;\n",
       "                var nbb_unformatted_code = \"sr_res = pd.DataFrame(\\n    {\\n        \\\"top_level\\\": top_level,\\n        \\\"bot_level\\\": bot_level,\\n    }\\n)\\nsr_res.dropna()\";\n",
       "                var nbb_formatted_code = \"sr_res = pd.DataFrame(\\n    {\\n        \\\"top_level\\\": top_level,\\n        \\\"bot_level\\\": bot_level,\\n    }\\n)\\nsr_res.dropna()\";\n",
       "                var nbb_cells = Jupyter.notebook.get_cells();\n",
       "                for (var i = 0; i < nbb_cells.length; ++i) {\n",
       "                    if (nbb_cells[i].input_prompt_number == nbb_cell_id) {\n",
       "                        if (nbb_cells[i].get_text() == nbb_unformatted_code) {\n",
       "                             nbb_cells[i].set_text(nbb_formatted_code);\n",
       "                        }\n",
       "                        break;\n",
       "                    }\n",
       "                }\n",
       "            }, 500);\n",
       "            "
      ],
      "text/plain": [
       "<IPython.core.display.Javascript object>"
      ]
     },
     "metadata": {},
     "output_type": "display_data"
    }
   ],
   "source": [
    "sr_res = pd.DataFrame(\n",
    "    {\n",
    "        \"top_level\": top_level,\n",
    "        \"bot_level\": bot_level,\n",
    "    }\n",
    ")\n",
    "sr_res.dropna()"
   ]
  },
  {
   "cell_type": "code",
   "execution_count": 33,
   "id": "assumed-wiring",
   "metadata": {},
   "outputs": [
    {
     "data": {
      "text/html": [
       "<div>\n",
       "<style scoped>\n",
       "    .dataframe tbody tr th:only-of-type {\n",
       "        vertical-align: middle;\n",
       "    }\n",
       "\n",
       "    .dataframe tbody tr th {\n",
       "        vertical-align: top;\n",
       "    }\n",
       "\n",
       "    .dataframe thead th {\n",
       "        text-align: right;\n",
       "    }\n",
       "</style>\n",
       "<table border=\"1\" class=\"dataframe\">\n",
       "  <thead>\n",
       "    <tr style=\"text-align: right;\">\n",
       "      <th></th>\n",
       "      <th>open_time</th>\n",
       "      <th>high</th>\n",
       "      <th>low</th>\n",
       "      <th>ph</th>\n",
       "      <th>pl</th>\n",
       "      <th>ma1</th>\n",
       "      <th>ma2</th>\n",
       "      <th>prdhighest</th>\n",
       "      <th>prdlowest</th>\n",
       "      <th>cwidth</th>\n",
       "    </tr>\n",
       "  </thead>\n",
       "  <tbody>\n",
       "    <tr>\n",
       "      <th>278</th>\n",
       "      <td>2023-05-21 13:30:00</td>\n",
       "      <td>10.539</td>\n",
       "      <td>10.525</td>\n",
       "      <td>NaN</td>\n",
       "      <td>NaN</td>\n",
       "      <td>10.55132</td>\n",
       "      <td>10.569450</td>\n",
       "      <td>NaN</td>\n",
       "      <td>NaN</td>\n",
       "      <td>NaN</td>\n",
       "    </tr>\n",
       "    <tr>\n",
       "      <th>279</th>\n",
       "      <td>2023-05-21 13:45:00</td>\n",
       "      <td>10.542</td>\n",
       "      <td>10.531</td>\n",
       "      <td>NaN</td>\n",
       "      <td>NaN</td>\n",
       "      <td>10.54984</td>\n",
       "      <td>10.569430</td>\n",
       "      <td>NaN</td>\n",
       "      <td>NaN</td>\n",
       "      <td>NaN</td>\n",
       "    </tr>\n",
       "    <tr>\n",
       "      <th>280</th>\n",
       "      <td>2023-05-21 14:00:00</td>\n",
       "      <td>10.544</td>\n",
       "      <td>10.531</td>\n",
       "      <td>NaN</td>\n",
       "      <td>NaN</td>\n",
       "      <td>10.54852</td>\n",
       "      <td>10.569315</td>\n",
       "      <td>NaN</td>\n",
       "      <td>NaN</td>\n",
       "      <td>NaN</td>\n",
       "    </tr>\n",
       "    <tr>\n",
       "      <th>281</th>\n",
       "      <td>2023-05-21 14:15:00</td>\n",
       "      <td>10.550</td>\n",
       "      <td>10.541</td>\n",
       "      <td>NaN</td>\n",
       "      <td>NaN</td>\n",
       "      <td>10.54770</td>\n",
       "      <td>10.569215</td>\n",
       "      <td>NaN</td>\n",
       "      <td>NaN</td>\n",
       "      <td>NaN</td>\n",
       "    </tr>\n",
       "    <tr>\n",
       "      <th>282</th>\n",
       "      <td>2023-05-21 14:30:00</td>\n",
       "      <td>10.558</td>\n",
       "      <td>10.531</td>\n",
       "      <td>10.558</td>\n",
       "      <td>NaN</td>\n",
       "      <td>10.54660</td>\n",
       "      <td>10.568910</td>\n",
       "      <td>NaN</td>\n",
       "      <td>NaN</td>\n",
       "      <td>NaN</td>\n",
       "    </tr>\n",
       "    <tr>\n",
       "      <th>283</th>\n",
       "      <td>2023-05-21 14:45:00</td>\n",
       "      <td>10.540</td>\n",
       "      <td>10.508</td>\n",
       "      <td>NaN</td>\n",
       "      <td>NaN</td>\n",
       "      <td>10.54518</td>\n",
       "      <td>10.568445</td>\n",
       "      <td>NaN</td>\n",
       "      <td>NaN</td>\n",
       "      <td>NaN</td>\n",
       "    </tr>\n",
       "    <tr>\n",
       "      <th>284</th>\n",
       "      <td>2023-05-21 15:00:00</td>\n",
       "      <td>10.543</td>\n",
       "      <td>10.509</td>\n",
       "      <td>NaN</td>\n",
       "      <td>NaN</td>\n",
       "      <td>10.54396</td>\n",
       "      <td>10.568055</td>\n",
       "      <td>NaN</td>\n",
       "      <td>NaN</td>\n",
       "      <td>NaN</td>\n",
       "    </tr>\n",
       "    <tr>\n",
       "      <th>285</th>\n",
       "      <td>2023-05-21 15:15:00</td>\n",
       "      <td>10.529</td>\n",
       "      <td>10.511</td>\n",
       "      <td>NaN</td>\n",
       "      <td>NaN</td>\n",
       "      <td>10.54296</td>\n",
       "      <td>10.567775</td>\n",
       "      <td>NaN</td>\n",
       "      <td>NaN</td>\n",
       "      <td>NaN</td>\n",
       "    </tr>\n",
       "    <tr>\n",
       "      <th>286</th>\n",
       "      <td>2023-05-21 15:30:00</td>\n",
       "      <td>10.533</td>\n",
       "      <td>10.410</td>\n",
       "      <td>NaN</td>\n",
       "      <td>10.41</td>\n",
       "      <td>10.54008</td>\n",
       "      <td>10.567115</td>\n",
       "      <td>NaN</td>\n",
       "      <td>NaN</td>\n",
       "      <td>NaN</td>\n",
       "    </tr>\n",
       "    <tr>\n",
       "      <th>287</th>\n",
       "      <td>2023-05-21 15:45:00</td>\n",
       "      <td>10.479</td>\n",
       "      <td>10.421</td>\n",
       "      <td>NaN</td>\n",
       "      <td>NaN</td>\n",
       "      <td>10.53802</td>\n",
       "      <td>10.566645</td>\n",
       "      <td>NaN</td>\n",
       "      <td>NaN</td>\n",
       "      <td>NaN</td>\n",
       "    </tr>\n",
       "    <tr>\n",
       "      <th>288</th>\n",
       "      <td>2023-05-21 16:00:00</td>\n",
       "      <td>10.496</td>\n",
       "      <td>10.450</td>\n",
       "      <td>NaN</td>\n",
       "      <td>NaN</td>\n",
       "      <td>10.53618</td>\n",
       "      <td>10.566470</td>\n",
       "      <td>NaN</td>\n",
       "      <td>NaN</td>\n",
       "      <td>NaN</td>\n",
       "    </tr>\n",
       "    <tr>\n",
       "      <th>289</th>\n",
       "      <td>2023-05-21 16:15:00</td>\n",
       "      <td>10.483</td>\n",
       "      <td>10.430</td>\n",
       "      <td>NaN</td>\n",
       "      <td>NaN</td>\n",
       "      <td>10.53386</td>\n",
       "      <td>10.566110</td>\n",
       "      <td>NaN</td>\n",
       "      <td>NaN</td>\n",
       "      <td>NaN</td>\n",
       "    </tr>\n",
       "    <tr>\n",
       "      <th>290</th>\n",
       "      <td>2023-05-21 16:30:00</td>\n",
       "      <td>10.472</td>\n",
       "      <td>10.439</td>\n",
       "      <td>NaN</td>\n",
       "      <td>NaN</td>\n",
       "      <td>10.53170</td>\n",
       "      <td>10.565705</td>\n",
       "      <td>NaN</td>\n",
       "      <td>NaN</td>\n",
       "      <td>NaN</td>\n",
       "    </tr>\n",
       "    <tr>\n",
       "      <th>291</th>\n",
       "      <td>2023-05-21 16:45:00</td>\n",
       "      <td>10.450</td>\n",
       "      <td>10.428</td>\n",
       "      <td>NaN</td>\n",
       "      <td>NaN</td>\n",
       "      <td>10.52920</td>\n",
       "      <td>10.565235</td>\n",
       "      <td>NaN</td>\n",
       "      <td>NaN</td>\n",
       "      <td>NaN</td>\n",
       "    </tr>\n",
       "    <tr>\n",
       "      <th>292</th>\n",
       "      <td>2023-05-21 17:00:00</td>\n",
       "      <td>10.468</td>\n",
       "      <td>10.431</td>\n",
       "      <td>NaN</td>\n",
       "      <td>NaN</td>\n",
       "      <td>10.52722</td>\n",
       "      <td>10.564860</td>\n",
       "      <td>NaN</td>\n",
       "      <td>NaN</td>\n",
       "      <td>NaN</td>\n",
       "    </tr>\n",
       "    <tr>\n",
       "      <th>293</th>\n",
       "      <td>2023-05-21 17:15:00</td>\n",
       "      <td>10.463</td>\n",
       "      <td>10.445</td>\n",
       "      <td>NaN</td>\n",
       "      <td>NaN</td>\n",
       "      <td>10.52478</td>\n",
       "      <td>10.564500</td>\n",
       "      <td>NaN</td>\n",
       "      <td>NaN</td>\n",
       "      <td>NaN</td>\n",
       "    </tr>\n",
       "    <tr>\n",
       "      <th>294</th>\n",
       "      <td>2023-05-21 17:30:00</td>\n",
       "      <td>10.460</td>\n",
       "      <td>10.431</td>\n",
       "      <td>NaN</td>\n",
       "      <td>NaN</td>\n",
       "      <td>10.52240</td>\n",
       "      <td>10.564050</td>\n",
       "      <td>NaN</td>\n",
       "      <td>NaN</td>\n",
       "      <td>NaN</td>\n",
       "    </tr>\n",
       "    <tr>\n",
       "      <th>295</th>\n",
       "      <td>2023-05-21 17:45:00</td>\n",
       "      <td>10.461</td>\n",
       "      <td>10.432</td>\n",
       "      <td>NaN</td>\n",
       "      <td>NaN</td>\n",
       "      <td>10.52012</td>\n",
       "      <td>10.563490</td>\n",
       "      <td>NaN</td>\n",
       "      <td>NaN</td>\n",
       "      <td>NaN</td>\n",
       "    </tr>\n",
       "    <tr>\n",
       "      <th>296</th>\n",
       "      <td>2023-05-21 18:00:00</td>\n",
       "      <td>10.470</td>\n",
       "      <td>10.452</td>\n",
       "      <td>NaN</td>\n",
       "      <td>NaN</td>\n",
       "      <td>10.51808</td>\n",
       "      <td>10.563115</td>\n",
       "      <td>NaN</td>\n",
       "      <td>NaN</td>\n",
       "      <td>NaN</td>\n",
       "    </tr>\n",
       "    <tr>\n",
       "      <th>297</th>\n",
       "      <td>2023-05-21 18:15:00</td>\n",
       "      <td>10.469</td>\n",
       "      <td>10.450</td>\n",
       "      <td>NaN</td>\n",
       "      <td>NaN</td>\n",
       "      <td>10.51616</td>\n",
       "      <td>10.562570</td>\n",
       "      <td>NaN</td>\n",
       "      <td>NaN</td>\n",
       "      <td>NaN</td>\n",
       "    </tr>\n",
       "    <tr>\n",
       "      <th>298</th>\n",
       "      <td>2023-05-21 18:30:00</td>\n",
       "      <td>10.468</td>\n",
       "      <td>10.453</td>\n",
       "      <td>NaN</td>\n",
       "      <td>NaN</td>\n",
       "      <td>10.51440</td>\n",
       "      <td>10.562165</td>\n",
       "      <td>NaN</td>\n",
       "      <td>NaN</td>\n",
       "      <td>NaN</td>\n",
       "    </tr>\n",
       "    <tr>\n",
       "      <th>299</th>\n",
       "      <td>2023-05-21 18:45:00</td>\n",
       "      <td>10.476</td>\n",
       "      <td>10.457</td>\n",
       "      <td>NaN</td>\n",
       "      <td>NaN</td>\n",
       "      <td>10.51292</td>\n",
       "      <td>10.561920</td>\n",
       "      <td>10.92</td>\n",
       "      <td>10.408</td>\n",
       "      <td>0.0256</td>\n",
       "    </tr>\n",
       "  </tbody>\n",
       "</table>\n",
       "</div>"
      ],
      "text/plain": [
       "              open_time    high     low      ph     pl       ma1        ma2  \\\n",
       "278 2023-05-21 13:30:00  10.539  10.525     NaN    NaN  10.55132  10.569450   \n",
       "279 2023-05-21 13:45:00  10.542  10.531     NaN    NaN  10.54984  10.569430   \n",
       "280 2023-05-21 14:00:00  10.544  10.531     NaN    NaN  10.54852  10.569315   \n",
       "281 2023-05-21 14:15:00  10.550  10.541     NaN    NaN  10.54770  10.569215   \n",
       "282 2023-05-21 14:30:00  10.558  10.531  10.558    NaN  10.54660  10.568910   \n",
       "283 2023-05-21 14:45:00  10.540  10.508     NaN    NaN  10.54518  10.568445   \n",
       "284 2023-05-21 15:00:00  10.543  10.509     NaN    NaN  10.54396  10.568055   \n",
       "285 2023-05-21 15:15:00  10.529  10.511     NaN    NaN  10.54296  10.567775   \n",
       "286 2023-05-21 15:30:00  10.533  10.410     NaN  10.41  10.54008  10.567115   \n",
       "287 2023-05-21 15:45:00  10.479  10.421     NaN    NaN  10.53802  10.566645   \n",
       "288 2023-05-21 16:00:00  10.496  10.450     NaN    NaN  10.53618  10.566470   \n",
       "289 2023-05-21 16:15:00  10.483  10.430     NaN    NaN  10.53386  10.566110   \n",
       "290 2023-05-21 16:30:00  10.472  10.439     NaN    NaN  10.53170  10.565705   \n",
       "291 2023-05-21 16:45:00  10.450  10.428     NaN    NaN  10.52920  10.565235   \n",
       "292 2023-05-21 17:00:00  10.468  10.431     NaN    NaN  10.52722  10.564860   \n",
       "293 2023-05-21 17:15:00  10.463  10.445     NaN    NaN  10.52478  10.564500   \n",
       "294 2023-05-21 17:30:00  10.460  10.431     NaN    NaN  10.52240  10.564050   \n",
       "295 2023-05-21 17:45:00  10.461  10.432     NaN    NaN  10.52012  10.563490   \n",
       "296 2023-05-21 18:00:00  10.470  10.452     NaN    NaN  10.51808  10.563115   \n",
       "297 2023-05-21 18:15:00  10.469  10.450     NaN    NaN  10.51616  10.562570   \n",
       "298 2023-05-21 18:30:00  10.468  10.453     NaN    NaN  10.51440  10.562165   \n",
       "299 2023-05-21 18:45:00  10.476  10.457     NaN    NaN  10.51292  10.561920   \n",
       "\n",
       "     prdhighest  prdlowest  cwidth  \n",
       "278         NaN        NaN     NaN  \n",
       "279         NaN        NaN     NaN  \n",
       "280         NaN        NaN     NaN  \n",
       "281         NaN        NaN     NaN  \n",
       "282         NaN        NaN     NaN  \n",
       "283         NaN        NaN     NaN  \n",
       "284         NaN        NaN     NaN  \n",
       "285         NaN        NaN     NaN  \n",
       "286         NaN        NaN     NaN  \n",
       "287         NaN        NaN     NaN  \n",
       "288         NaN        NaN     NaN  \n",
       "289         NaN        NaN     NaN  \n",
       "290         NaN        NaN     NaN  \n",
       "291         NaN        NaN     NaN  \n",
       "292         NaN        NaN     NaN  \n",
       "293         NaN        NaN     NaN  \n",
       "294         NaN        NaN     NaN  \n",
       "295         NaN        NaN     NaN  \n",
       "296         NaN        NaN     NaN  \n",
       "297         NaN        NaN     NaN  \n",
       "298         NaN        NaN     NaN  \n",
       "299       10.92     10.408  0.0256  "
      ]
     },
     "execution_count": 33,
     "metadata": {},
     "output_type": "execute_result"
    },
    {
     "data": {
      "application/javascript": [
       "\n",
       "            setTimeout(function() {\n",
       "                var nbb_cell_id = 33;\n",
       "                var nbb_unformatted_code = \"res = pd.DataFrame(\\n    {\\n        \\\"open_time\\\": data[\\\"open_time\\\"],\\n        \\\"high\\\": high,\\n        \\\"low\\\": low,\\n        \\\"ph\\\": ph,\\n        \\\"pl\\\": pl,\\n        \\\"ma1\\\": ma1,\\n        \\\"ma2\\\": ma2,\\n        \\\"prdhighest\\\": prdhighest,\\n        \\\"prdlowest\\\": prdlowest,\\n        \\\"cwidth\\\": cwidth,\\n    }\\n)\\nres.tail(-278).head(22)\";\n",
       "                var nbb_formatted_code = \"res = pd.DataFrame(\\n    {\\n        \\\"open_time\\\": data[\\\"open_time\\\"],\\n        \\\"high\\\": high,\\n        \\\"low\\\": low,\\n        \\\"ph\\\": ph,\\n        \\\"pl\\\": pl,\\n        \\\"ma1\\\": ma1,\\n        \\\"ma2\\\": ma2,\\n        \\\"prdhighest\\\": prdhighest,\\n        \\\"prdlowest\\\": prdlowest,\\n        \\\"cwidth\\\": cwidth,\\n    }\\n)\\nres.tail(-278).head(22)\";\n",
       "                var nbb_cells = Jupyter.notebook.get_cells();\n",
       "                for (var i = 0; i < nbb_cells.length; ++i) {\n",
       "                    if (nbb_cells[i].input_prompt_number == nbb_cell_id) {\n",
       "                        if (nbb_cells[i].get_text() == nbb_unformatted_code) {\n",
       "                             nbb_cells[i].set_text(nbb_formatted_code);\n",
       "                        }\n",
       "                        break;\n",
       "                    }\n",
       "                }\n",
       "            }, 500);\n",
       "            "
      ],
      "text/plain": [
       "<IPython.core.display.Javascript object>"
      ]
     },
     "metadata": {},
     "output_type": "display_data"
    }
   ],
   "source": [
    "res = pd.DataFrame(\n",
    "    {\n",
    "        \"open_time\": data[\"open_time\"],\n",
    "        \"high\": high,\n",
    "        \"low\": low,\n",
    "        \"ph\": ph,\n",
    "        \"pl\": pl,\n",
    "        \"ma1\": ma1,\n",
    "        \"ma2\": ma2,\n",
    "        \"prdhighest\": prdhighest,\n",
    "        \"prdlowest\": prdlowest,\n",
    "        \"cwidth\": cwidth,\n",
    "    }\n",
    ")\n",
    "res.tail(-278).head(22)"
   ]
  },
  {
   "cell_type": "code",
   "execution_count": 34,
   "id": "worse-engagement",
   "metadata": {},
   "outputs": [
    {
     "data": {
      "text/plain": [
       "27     10.920\n",
       "61     10.654\n",
       "93     10.630\n",
       "126    10.628\n",
       "143    10.642\n",
       "161    10.601\n",
       "202    10.621\n",
       "228    10.619\n",
       "261    10.576\n",
       "282    10.558\n",
       "314    10.505\n",
       "376    10.584\n",
       "393    10.526\n",
       "430    10.623\n",
       "460    10.540\n",
       "480    10.571\n",
       "Name: ph, dtype: float64"
      ]
     },
     "execution_count": 34,
     "metadata": {},
     "output_type": "execute_result"
    },
    {
     "data": {
      "application/javascript": [
       "\n",
       "            setTimeout(function() {\n",
       "                var nbb_cell_id = 34;\n",
       "                var nbb_unformatted_code = \"res[\\\"ph\\\"].loc[res[\\\"ph\\\"].notnull()]\";\n",
       "                var nbb_formatted_code = \"res[\\\"ph\\\"].loc[res[\\\"ph\\\"].notnull()]\";\n",
       "                var nbb_cells = Jupyter.notebook.get_cells();\n",
       "                for (var i = 0; i < nbb_cells.length; ++i) {\n",
       "                    if (nbb_cells[i].input_prompt_number == nbb_cell_id) {\n",
       "                        if (nbb_cells[i].get_text() == nbb_unformatted_code) {\n",
       "                             nbb_cells[i].set_text(nbb_formatted_code);\n",
       "                        }\n",
       "                        break;\n",
       "                    }\n",
       "                }\n",
       "            }, 500);\n",
       "            "
      ],
      "text/plain": [
       "<IPython.core.display.Javascript object>"
      ]
     },
     "metadata": {},
     "output_type": "display_data"
    }
   ],
   "source": [
    "res[\"ph\"].loc[res[\"ph\"].notnull()]"
   ]
  },
  {
   "cell_type": "code",
   "execution_count": 35,
   "id": "clean-highway",
   "metadata": {},
   "outputs": [
    {
     "data": {
      "text/plain": [
       "456    10.450\n",
       "419    10.445\n",
       "389    10.440\n",
       "372    10.461\n",
       "323    10.325\n",
       "308    10.403\n",
       "286    10.410\n",
       "269    10.429\n",
       "253    10.536\n",
       "224    10.558\n",
       "212    10.546\n",
       "159    10.519\n",
       "130    10.522\n",
       "110    10.511\n",
       "94     10.408\n",
       "76     10.483\n",
       "44     10.546\n",
       "Name: pl, dtype: float64"
      ]
     },
     "execution_count": 35,
     "metadata": {},
     "output_type": "execute_result"
    },
    {
     "data": {
      "application/javascript": [
       "\n",
       "            setTimeout(function() {\n",
       "                var nbb_cell_id = 35;\n",
       "                var nbb_unformatted_code = \"res[\\\"pl\\\"].loc[res[\\\"pl\\\"].notnull()][::-1]\";\n",
       "                var nbb_formatted_code = \"res[\\\"pl\\\"].loc[res[\\\"pl\\\"].notnull()][::-1]\";\n",
       "                var nbb_cells = Jupyter.notebook.get_cells();\n",
       "                for (var i = 0; i < nbb_cells.length; ++i) {\n",
       "                    if (nbb_cells[i].input_prompt_number == nbb_cell_id) {\n",
       "                        if (nbb_cells[i].get_text() == nbb_unformatted_code) {\n",
       "                             nbb_cells[i].set_text(nbb_formatted_code);\n",
       "                        }\n",
       "                        break;\n",
       "                    }\n",
       "                }\n",
       "            }, 500);\n",
       "            "
      ],
      "text/plain": [
       "<IPython.core.display.Javascript object>"
      ]
     },
     "metadata": {},
     "output_type": "display_data"
    }
   ],
   "source": [
    "res[\"pl\"].loc[res[\"pl\"].notnull()][::-1]"
   ]
  },
  {
   "cell_type": "code",
   "execution_count": null,
   "id": "streaming-connectivity",
   "metadata": {},
   "outputs": [],
   "source": [
    "smpl = np.array(res[\"pl\"].loc[res[\"pl\"].notnull()][::-1])\n",
    "# smpl = np.insert(smpl, 4, smpl[3])\n",
    "smpl"
   ]
  },
  {
   "cell_type": "code",
   "execution_count": null,
   "id": "unnecessary-algorithm",
   "metadata": {},
   "outputs": [],
   "source": [
    "sp = 3\n",
    "pv = np.roll(tl.MAX(smpl, sp + 1 + sp), -sp)\n",
    "pv[pv != smpl] = np.NaN\n",
    "pv"
   ]
  },
  {
   "cell_type": "code",
   "execution_count": null,
   "id": "embedded-discharge",
   "metadata": {},
   "outputs": [],
   "source": [
    "for i in range(sp, len(pv) - sp):\n",
    "    for j in range(sp):\n",
    "        if pv[i] == smpl[i + 1 : i + 1 + sp][j]:\n",
    "            pv[i] = np.NaN\n",
    "        if pv[i] == smpl[i - sp : i][j]:\n",
    "            pv[i] = np.NaN\n",
    "pv"
   ]
  },
  {
   "cell_type": "code",
   "execution_count": null,
   "id": "nominated-qualification",
   "metadata": {},
   "outputs": [],
   "source": [
    "smpl[3 + 1 : 3 + 1 + 3]"
   ]
  },
  {
   "cell_type": "code",
   "execution_count": null,
   "id": "satisfactory-sydney",
   "metadata": {},
   "outputs": [],
   "source": [
    "for r in range(sp, len(pv) - sp):\n",
    "    print(r)"
   ]
  },
  {
   "cell_type": "code",
   "execution_count": null,
   "id": "scheduled-mainland",
   "metadata": {},
   "outputs": [],
   "source": [
    "rpv = np.where(smpl[4 : 4 + 3] == pv[4])\n",
    "rpv"
   ]
  },
  {
   "cell_type": "code",
   "execution_count": null,
   "id": "boolean-static",
   "metadata": {},
   "outputs": [],
   "source": [
    "rsp = pd.DataFrame(\n",
    "    {\n",
    "        \"smpl\": smpl,\n",
    "        \"pv\": pv,\n",
    "    }\n",
    ")\n",
    "rsp"
   ]
  },
  {
   "cell_type": "code",
   "execution_count": null,
   "id": "aquatic-routine",
   "metadata": {},
   "outputs": [],
   "source": []
  }
 ],
 "metadata": {
  "kernelspec": {
   "display_name": "venv",
   "language": "python",
   "name": "venv"
  },
  "language_info": {
   "codemirror_mode": {
    "name": "ipython",
    "version": 3
   },
   "file_extension": ".py",
   "mimetype": "text/x-python",
   "name": "python",
   "nbconvert_exporter": "python",
   "pygments_lexer": "ipython3",
   "version": "3.6.13"
  }
 },
 "nbformat": 4,
 "nbformat_minor": 5
}
